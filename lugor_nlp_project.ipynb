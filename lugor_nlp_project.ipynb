{
 "cells": [
  {
   "cell_type": "markdown",
   "id": "141ac55f-1e2e-4fbb-a643-8523e3f82509",
   "metadata": {},
   "source": [
    "## The Plan\n",
    " ### Acquisition Phase:\n",
    "- The project commences with the acquisition of README files from a variety of repositories. Alongside these files, we also gather metadata about the repositories, which includes the primary programming language used. Our dataset included 960 repositories. We used GitHub's <a href='https://github.com/search?q=stars%3A%3E0&s=stars&type=Repositories'>the most starred repositories</a>. Generated the list of repositories programmatically using web scraping techniques.\n",
    " ### Preparation Phase:\n",
    "- Following acquisition, we move into the preparation phase. Here, the README text data underwent preprocessing, which encompasses cleaning, normalization, lemmatized, tokenization and removing stopwords. Simultaneously, the target variable, which is the primary programming language. Since the pages linked above change over time, note: \"Our data comes from the top 960 most starred repositories on GitHub as of 27 June 2023\".\n",
    " ### Exploration Phase:\n",
    "- Next, we enter the exploration phase. This involves conducting an exploratory data analysis on the README texts. The goal is to identify patterns, trends, and potential relationships between the text and the programming language used in the repository. Here we explorated the following ideas:\n",
    "> What are the most common words in READMEs?\n",
    "> Does the length of the README vary by programming language?\n",
    "> Do different programming languages use a different number of unique words?\n",
    "> Are there any words that uniquely identify a programming language?\n",
    " ### Modeling Phase:\n",
    "- The final phase is modeling. The data is divided into training, validate and testing sets. Transform our content into a format suitable for a machine learning model. Try fitting several different models and using several different representations of the text (e.g., a simple bag of words, then also the TF-IDF values for each). Build a function that took in the text of a README file and attempted to predict the programming language. We used the top 3 languages (JavaScript, Objective-C, Java) and then label everything else as \"Other\" so that you have fewer unique values to predict. Each model's performance is evaluated on the testing set using appropriate metrics. The model that performs the best is then optimized and validated on unseen data."
   ]
  },
  {
   "cell_type": "markdown",
   "id": "21717b00-7a72-4178-97e0-a2f103360462",
   "metadata": {},
   "source": [
    "Acquisition Phase:\n",
    "- The project commences with the acquisition of README files from a variety of repositories. Alongside these files, we also gather metadata about the repositories, which includes the primary programming language used. Our dataset included 960 repositories. We used GitHub's <a href='https://github.com/search?q=stars%3A%3E0&s=stars&type=Repositories'>the most starred repositories</a>. Generated the list of repositories programmatically using web scraping techniques.\n",
    "\n",
    "- 960 rows (original)\n",
    "- 379 are duplicates\n",
    "- 3 missing README.md files \n",
    "- 34 missing programming languages \n",
    "- 544 are left to work with \n",
    "- top 3 (JavaScript (28%), Objective-C (17%), Java (13%), other (42%))\n",
    "\n",
    "\n",
    "Preparation Phase:\n",
    "Following acquisition, we move into the preparation phase. Here, the README text data underwent preprocessing, which encompasses cleaning, normalization, lemmatized, tokenization and removing stopwords. Simultaneously, the target variable, which is the primary programming language. Since the pages linked above change over time, note: \"Our data comes from the top 960 most starred repositories on GitHub as of 27 June 2023\".\n",
    "\n",
    "Exploration\n",
    "\n",
    "Next, we enter the exploration phase. This involves conducting an exploratory data analysis on the README texts. Here are some exploration ideas:\n",
    "\n",
    "What are the most common words in READMEs?\n",
    "Does the length of the README vary by programming language?\n",
    "Do different programming languages use a different number of unique words?\n",
    "Are there any words that uniquely identify a programming language?\n",
    "Modeling\n",
    "\n",
    "The final phase is modeling. The data is divided into training, validate and testing sets. Transform our documents into a format suitable for a machine learning model. Try fitting several different models and using several different representations of the text (e.g., a simple bag of words, then also the TF-IDF values for each). Build a function that took in the text of a README file and attempted to predict the programming language. \n",
    "\n",
    "We used the top 3 languages (JavaScript, Objective-C, Java) and then label everything else as \"Other\" so that you have fewer unique values to predict. Each model's performance is evaluated on the testing set using appropriate metrics. The model that performs the best is then optimized and validated on unseen data."
   ]
  },
  {
   "cell_type": "markdown",
   "id": "a3660006-5082-4795-adda-ff961301f4d8",
   "metadata": {},
   "source": [
    "Predicting the primary programming language of a repository from its README file is a challenging task, as the README file typically contains descriptive information about the project rather than code. However, there are several strategies that could be employed:\n",
    "\n",
    "Keyword Analysis: Certain keywords might be more prevalent in README files of projects that use specific programming languages. For example, a README file for a Python project might frequently mention \"pip\", \"PyPI\", or \"Jupyter\", while a JavaScript project might mention \"npm\" or \"Node.js\". Analyzing the frequency of these keywords could provide clues about the primary programming language.\n",
    "\n",
    "Library and Framework References: Projects often mention the libraries and frameworks they use, which are usually language-specific. For instance, a project mentioning \"React\" or \"Express\" is likely to be JavaScript-based, while \"Pandas\" or \"Scikit-learn\" would suggest Python.\n",
    "\n",
    "Code Snippets: Some README files include small code snippets or examples. If these are present, they can be a strong indicator of the programming language.\n",
    "\n",
    "Natural Language Processing (NLP): More advanced techniques could involve using NLP to understand the context and semantics of the text in the README file. This could potentially uncover more subtle indicators of the programming language.\n",
    "\n",
    "Machine Learning: You could treat this as a text classification problem, where the text of the README file is the feature and the programming language is the label. Various machine learning models could be trained on this task, such as Naive Bayes, Support Vector Machines, or even neural networks.\n",
    "\n",
    "Remember, the accuracy of the predictions will heavily depend on the quality and quantity of the training data. The more diverse and representative the training data is, the better the model will likely perform."
   ]
  },
  {
   "cell_type": "markdown",
   "id": "49f9502d-1748-4ca9-830f-ae6997d0338c",
   "metadata": {},
   "source": [
    "| Feature         | Description                                                            |\n",
    "|-----------------|------------------------------------------------------------------------|\n",
    "| repo            | The owners/organization and the repository name                        |\n",
    "| language        | The most common programming language in the repository                 |\n",
    "| readme_contents | The content inside the README.md file                                  |\n",
    "| clean           | The content after the prapare phase.                                   |\n",
    "| lemmatized      | The clean content after being lemmatized.                              |"
   ]
  },
  {
   "cell_type": "markdown",
   "id": "f9c716f8-f904-4da8-aeed-76198a8045f6",
   "metadata": {},
   "source": [
    "- repo\n",
    "- language\n",
    "- readme_contents"
   ]
  },
  {
   "cell_type": "markdown",
   "id": "e857ca66-9fcf-42a6-b4b7-cce15c971894",
   "metadata": {},
   "source": [
    "If the README.md file has some of the below information we could point out the different programming languages.\n",
    "\n",
    "Find Keyword: Certain keywords might be more prevalent in README files of projects that use specific programming languages. For example, a README file for a Python project might frequently mention \"pip\", \"PyPI\", or \"Jupyter\", while a JavaScript project might mention \"npm\" or \"Node.js\". Finding the frequency of these keywords could provide clues about the primary programming language.\n",
    "\n",
    "Exploring the Library and Framework References: Projects often mention the libraries and frameworks they use, which are usually language-specific. For instance, a project mentioning \"React\" or \"Express\" is likely to be JavaScript-based, while \"Pandas\" or \"Scikit-learn\" would suggest Python.\n",
    "\n",
    "Looking at Code Snippets: Some README files include small code snippets or examples. If these are present, they can be a strong indicator of the programming language.\n",
    "\n",
    "Using Natural Language Processing (NLP): More advanced techniques could involve using NLP to understand the context and semantics of the text in the README file. This could potentially uncover more subtle indicators of the programming language.\n",
    "\n",
    "In your readme, you discussed the initial questions and focus you are going into the analysis with.\n",
    " - If the readme has installation (steps to reproduce) instructions we could point out the different programming language. \n",
    " - if the readme mentions the file extentions inside the repositories that could point out the different programming language."
   ]
  },
  {
   "cell_type": "markdown",
   "id": "8c918571-3dfb-4ab7-8bd4-4476a5a84fed",
   "metadata": {},
   "source": [
    "## Initial Questions/Thoughts\n",
    "If the README.md file has some of the below information we could point out the different programming languages.\n",
    "- Find Keyword: Certain keywords might be more prevalent in README files of projects that use specific programming languages. For example, a README file for a Python project might frequently mention \"pip\", \"PyPI\", or \"Jupyter\", while a JavaScript project might mention \"npm\" or \"Node.js\". Finding the frequency of these keywords could provide clues about the primary programming language.\n",
    "- Exploring the Library and Framework References: Projects often mention the libraries and frameworks they use, which are usually language-specific. For instance, a project mentioning \"React\" or \"Express\" is likely to be JavaScript-based, while \"Pandas\" or \"Scikit-learn\" would suggest Python.\n",
    "- Looking at Code Snippets: Some README files include small code snippets or examples. If these are present, they can be a strong indicator of the programming language.\n",
    "- Using Natural Language Processing (NLP): More advanced techniques could involve using NLP to understand the context and semantics of the text in the README file. This could potentially uncover more subtle indicators of the programming language."
   ]
  },
  {
   "cell_type": "markdown",
   "id": "0c325029-9de9-4e35-bffc-94c5da9add5e",
   "metadata": {},
   "source": [
    "# readme_tellme_repo_lang\n",
    "\n",
    "# Project Planning\n",
    "\n",
    "## Project Description\n",
    "This project involves creating a machine learning model that uses natural language processing techniques to analyze README files and predict the main programming language used in the corresponding repositories. This tool could significantly streamline codebase management and analysis, particularly in large-scale scenarios.\n",
    "\n",
    "## Project Goal\n",
    "Develop a predictive model to identify GitHub repository's primary programming language using README file content.\n",
    "\n",
    "## Initial Questions/Thoughts\n",
    "If the README.md file has some of the below information we could point out the different programming languages.\n",
    "- Find Keyword: Certain keywords might be more prevalent in README files of projects that use specific programming languages. For example, a README file for a Python project might frequently mention \"pip\", \"PyPI\", or \"Jupyter\", while a JavaScript project might mention \"npm\" or \"Node.js\". Finding the frequency of these keywords could provide clues about the primary programming language.\n",
    "- Exploring the Library and Framework References: Projects often mention the libraries and frameworks they use, which are usually language-specific. For instance, a project mentioning \"React\" or \"Express\" is likely to be JavaScript-based, while \"Pandas\" or \"Scikit-learn\" would suggest Python.\n",
    "- Looking at Code Snippets: Some README files include small code snippets or examples. If these are present, they can be a strong indicator of the programming language.\n",
    "- Using Natural Language Processing (NLP): More advanced techniques could involve using NLP to understand the context and semantics of the text in the README file. This could potentially uncover more subtle indicators of the programming language.\n",
    "\n",
    "\n",
    "## DATA Dictionary\n",
    "| Feature         | Description                                                            |\n",
    "|-----------------|------------------------------------------------------------------------|\n",
    "| repo            | The owners/organization and the repository name                        |\n",
    "| language        | The most common programming language in the repository                 |\n",
    "| readme_contents | The content inside the README.md file                                  |\n",
    "| clean           | The content after the prapare phase.                                   |\n",
    "| lemmatized      | The clean content after being lemmatized.                              |\n",
    "\n",
    "\n",
    "## The Plan\n",
    " ### Acquisition Phase:\n",
    "- The project commences with the acquisition of README files from a variety of repositories. Alongside these files, we also gather metadata about the repositories, which includes the primary programming language used. Our dataset included 960 repositories. We used GitHub's <a href='https://github.com/search?q=stars%3A%3E0&s=stars&type=Repositories'>the most starred repositories</a>. Generated the list of repositories programmatically using web scraping techniques.\n",
    " ### Preparation Phase:\n",
    "- Following acquisition, we move into the preparation phase. Here, the README text data underwent preprocessing, which encompasses cleaning, normalization, lemmatized, tokenization and removing stopwords. Simultaneously, the target variable, which is the primary programming language. Since the pages linked above change over time, note: \"Our data comes from the top 960 most starred repositories on GitHub as of 27 June 2023\".\n",
    " ### Exploration Phase:\n",
    "- Next, we enter the exploration phase. This involves conducting an exploratory data analysis on the README texts. The goal is to identify patterns, trends, and potential relationships between the text and the programming language used in the repository. Here we explorated the following ideas:\n",
    ">• What are the most common words in READMEs?    \n",
    ">• Does the length of the README vary by programming language?     \n",
    ">• Do different programming languages use a different number of unique words?     \n",
    ">• Are there any words that uniquely identify a programming language?     \n",
    " ### Modeling Phase:\n",
    "- The final phase is modeling. The data is divided into training, validate and testing sets. Transform our content into a format suitable for a machine learning model. Try fitting several different models and using several different representations of the text (e.g., a simple bag of words, then also the TF-IDF values for each). Build a function that took in the text of a README file and attempted to predict the programming language. \n",
    "- We used the top 3 languages (JavaScript, Objective-C, Java) and then label everything else as \"Other\" so that you have fewer unique values to predict. Each model's performance is evaluated on the testing set using appropriate metrics. The model that performs the best is then optimized and validated on unseen data.  \n",
    " \n",
    "\n",
    "## Steps to Reproduce\n",
    "In order to get started reproducing this project, you'll need to set up a proper environment.\n",
    "\n",
    "1. Create a new repository on GitHub to house this project.\n",
    "2. Clone it into your local machine by copying the SSH link from GitHub and running **'git clone <SSH link'>** in your terminal.   \n",
    "3.  Create a **.gitignore** file in your local repository and include any files you don't want to be tracked by Git or shared on the internet. You can create and edit this file by running **'code .gitignore'** or 'open .gitignore' in your terminal.\n",
    "\n",
    "4. Make a github personal access token.\n",
    "  >a. Go here and generate a personal access token https://github.com/settings/tokens     \n",
    "        You do _not_ need select any scopes, i.e. leave all the checkboxes unchecked    \n",
    "  b. Save it in your env.py file under the variable `github_token`      \n",
    "  c. Add your github username to your env.py file under the variable `github_username`       \n",
    "  d. Add more repositories to the `REPOS` list below.     \n",
    "\n",
    "5. Create a Jupyter Lab environment to continue working in. You can do this by running **'jupyter lab'** in your terminal.\n",
    "\n",
    "6. In Jupyter Lab, create a new Jupyter Notebook to begin the data pipeline.\n",
    "\n",
    "***Remember to regularly commit and push your changes to GitHub to ensure your work is saved and accessible from the remote repository.***"
   ]
  },
  {
   "cell_type": "code",
   "execution_count": null,
   "id": "76bd6fe2-7f2f-4494-9921-512f90b26c54",
   "metadata": {},
   "outputs": [],
   "source": []
  }
 ],
 "metadata": {
  "kernelspec": {
   "display_name": "Python 3 (ipykernel)",
   "language": "python",
   "name": "python3"
  },
  "language_info": {
   "codemirror_mode": {
    "name": "ipython",
    "version": 3
   },
   "file_extension": ".py",
   "mimetype": "text/x-python",
   "name": "python",
   "nbconvert_exporter": "python",
   "pygments_lexer": "ipython3",
   "version": "3.9.13"
  }
 },
 "nbformat": 4,
 "nbformat_minor": 5
}
