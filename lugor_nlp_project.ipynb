{
 "cells": [
  {
   "cell_type": "markdown",
   "id": "141ac55f-1e2e-4fbb-a643-8523e3f82509",
   "metadata": {},
   "source": [
    "## The Plan\n",
    " ### Acquisition Phase:\n",
    "- The project commences with the acquisition of README files from a variety of repositories. Alongside these files, we also gather metadata about the repositories, which includes the primary programming language used. Our dataset included 960 repositories. We used GitHub's <a href='https://github.com/search?q=stars%3A%3E0&s=stars&type=Repositories'>the most starred repositories</a>. Generated the list of repositories programmatically using web scraping techniques.\n",
    " ### Preparation Phase:\n",
    "- Following acquisition, we move into the preparation phase. Here, the README text data underwent preprocessing, which encompasses cleaning, normalization, lemmatized, tokenization and removing stopwords. Simultaneously, the target variable, which is the primary programming language. Since the pages linked above change over time, note: \"Our data comes from the top 960 most starred repositories on GitHub as of 27 June 2023\".\n",
    " ### Exploration Phase:\n",
    "- Next, we enter the exploration phase. This involves conducting an exploratory data analysis on the README texts. The goal is to identify patterns, trends, and potential relationships between the text and the programming language used in the repository. Here we explorated the following ideas:\n",
    "> What are the most common words in READMEs?\n",
    "> Does the length of the README vary by programming language?\n",
    "> Do different programming languages use a different number of unique words?\n",
    "> Are there any words that uniquely identify a programming language?\n",
    " ### Modeling Phase:\n",
    "- The final phase is modeling. The data is divided into training, validate and testing sets. Transform our content into a format suitable for a machine learning model. Try fitting several different models and using several different representations of the text (e.g., a simple bag of words, then also the TF-IDF values for each). Build a function that took in the text of a README file and attempted to predict the programming language. We used the top 3 languages (JavaScript, Objective-C, Java) and then label everything else as \"Other\" so that you have fewer unique values to predict. Each model's performance is evaluated on the testing set using appropriate metrics. The model that performs the best is then optimized and validated on unseen data."
   ]
  },
  {
   "cell_type": "markdown",
   "id": "21717b00-7a72-4178-97e0-a2f103360462",
   "metadata": {},
   "source": [
    "Acquisition Phase:\n",
    "- The project commences with the acquisition of README files from a variety of repositories. Alongside these files, we also gather metadata about the repositories, which includes the primary programming language used. Our dataset included 960 repositories. We used GitHub's <a href='https://github.com/search?q=stars%3A%3E0&s=stars&type=Repositories'>the most starred repositories</a>. Generated the list of repositories programmatically using web scraping techniques.\n",
    "\n",
    "- 960 rows (original)\n",
    "- 379 are duplicates\n",
    "- 3 missing README.md files \n",
    "- 34 missing programming languages \n",
    "- 544 are left to work with \n",
    "- top 3 (JavaScript (28%), Objective-C (17%), Java (13%), other (42%))\n",
    "\n",
    "\n",
    "Preparation Phase:\n",
    "Following acquisition, we move into the preparation phase. Here, the README text data underwent preprocessing, which encompasses cleaning, normalization, lemmatized, tokenization and removing stopwords. Simultaneously, the target variable, which is the primary programming language. Since the pages linked above change over time, note: \"Our data comes from the top 960 most starred repositories on GitHub as of 27 June 2023\".\n",
    "\n",
    "Exploration\n",
    "\n",
    "Next, we enter the exploration phase. This involves conducting an exploratory data analysis on the README texts. Here are some exploration ideas:\n",
    "\n",
    "What are the most common words in READMEs?\n",
    "Does the length of the README vary by programming language?\n",
    "Do different programming languages use a different number of unique words?\n",
    "Are there any words that uniquely identify a programming language?\n",
    "Modeling\n",
    "\n",
    "The final phase is modeling. The data is divided into training, validate and testing sets. Transform our documents into a format suitable for a machine learning model. Try fitting several different models and using several different representations of the text (e.g., a simple bag of words, then also the TF-IDF values for each). Build a function that took in the text of a README file and attempted to predict the programming language. \n",
    "\n",
    "We used the top 3 languages (JavaScript, Objective-C, Java) and then label everything else as \"Other\" so that you have fewer unique values to predict. Each model's performance is evaluated on the testing set using appropriate metrics. The model that performs the best is then optimized and validated on unseen data."
   ]
  },
  {
   "cell_type": "markdown",
   "id": "a3660006-5082-4795-adda-ff961301f4d8",
   "metadata": {},
   "source": [
    "Predicting the primary programming language of a repository from its README file is a challenging task, as the README file typically contains descriptive information about the project rather than code. However, there are several strategies that could be employed:\n",
    "\n",
    "Keyword Analysis: Certain keywords might be more prevalent in README files of projects that use specific programming languages. For example, a README file for a Python project might frequently mention \"pip\", \"PyPI\", or \"Jupyter\", while a JavaScript project might mention \"npm\" or \"Node.js\". Analyzing the frequency of these keywords could provide clues about the primary programming language.\n",
    "\n",
    "Library and Framework References: Projects often mention the libraries and frameworks they use, which are usually language-specific. For instance, a project mentioning \"React\" or \"Express\" is likely to be JavaScript-based, while \"Pandas\" or \"Scikit-learn\" would suggest Python.\n",
    "\n",
    "Code Snippets: Some README files include small code snippets or examples. If these are present, they can be a strong indicator of the programming language.\n",
    "\n",
    "Natural Language Processing (NLP): More advanced techniques could involve using NLP to understand the context and semantics of the text in the README file. This could potentially uncover more subtle indicators of the programming language.\n",
    "\n",
    "Machine Learning: You could treat this as a text classification problem, where the text of the README file is the feature and the programming language is the label. Various machine learning models could be trained on this task, such as Naive Bayes, Support Vector Machines, or even neural networks.\n",
    "\n",
    "Remember, the accuracy of the predictions will heavily depend on the quality and quantity of the training data. The more diverse and representative the training data is, the better the model will likely perform."
   ]
  },
  {
   "cell_type": "markdown",
   "id": "49f9502d-1748-4ca9-830f-ae6997d0338c",
   "metadata": {},
   "source": [
    "| Feature         | Description                                                            |\n",
    "|-----------------|------------------------------------------------------------------------|\n",
    "| repo            | The owners/organization and the repository name                        |\n",
    "| language        | The most common programming language in the repository                 |\n",
    "| readme_contents | The content inside the README.md file                                  |\n",
    "| clean           | The content after the prapare phase.                                   |\n",
    "| lemmatized      | The clean content after being lemmatized.                              |"
   ]
  },
  {
   "cell_type": "markdown",
   "id": "f9c716f8-f904-4da8-aeed-76198a8045f6",
   "metadata": {},
   "source": [
    "- repo\n",
    "- language\n",
    "- readme_contents"
   ]
  },
  {
   "cell_type": "markdown",
   "id": "e857ca66-9fcf-42a6-b4b7-cce15c971894",
   "metadata": {},
   "source": [
    "If the README.md file has some of the below information we could point out the different programming languages.\n",
    "\n",
    "Find Keyword: Certain keywords might be more prevalent in README files of projects that use specific programming languages. For example, a README file for a Python project might frequently mention \"pip\", \"PyPI\", or \"Jupyter\", while a JavaScript project might mention \"npm\" or \"Node.js\". Finding the frequency of these keywords could provide clues about the primary programming language.\n",
    "\n",
    "Exploring the Library and Framework References: Projects often mention the libraries and frameworks they use, which are usually language-specific. For instance, a project mentioning \"React\" or \"Express\" is likely to be JavaScript-based, while \"Pandas\" or \"Scikit-learn\" would suggest Python.\n",
    "\n",
    "Looking at Code Snippets: Some README files include small code snippets or examples. If these are present, they can be a strong indicator of the programming language.\n",
    "\n",
    "Using Natural Language Processing (NLP): More advanced techniques could involve using NLP to understand the context and semantics of the text in the README file. This could potentially uncover more subtle indicators of the programming language.\n",
    "\n",
    "In your readme, you discussed the initial questions and focus you are going into the analysis with.\n",
    " - If the readme has installation (steps to reproduce) instructions we could point out the different programming language. \n",
    " - if the readme mentions the file extentions inside the repositories that could point out the different programming language."
   ]
  },
  {
   "cell_type": "markdown",
   "id": "8c918571-3dfb-4ab7-8bd4-4476a5a84fed",
   "metadata": {},
   "source": [
    "## Initial Questions/Thoughts\n",
    "If the README.md file has some of the below information we could point out the different programming languages.\n",
    "- Find Keyword: Certain keywords might be more prevalent in README files of projects that use specific programming languages. For example, a README file for a Python project might frequently mention \"pip\", \"PyPI\", or \"Jupyter\", while a JavaScript project might mention \"npm\" or \"Node.js\". Finding the frequency of these keywords could provide clues about the primary programming language.\n",
    "- Exploring the Library and Framework References: Projects often mention the libraries and frameworks they use, which are usually language-specific. For instance, a project mentioning \"React\" or \"Express\" is likely to be JavaScript-based, while \"Pandas\" or \"Scikit-learn\" would suggest Python.\n",
    "- Looking at Code Snippets: Some README files include small code snippets or examples. If these are present, they can be a strong indicator of the programming language.\n",
    "- Using Natural Language Processing (NLP): More advanced techniques could involve using NLP to understand the context and semantics of the text in the README file. This could potentially uncover more subtle indicators of the programming language."
   ]
  },
  {
   "cell_type": "markdown",
   "id": "0c325029-9de9-4e35-bffc-94c5da9add5e",
   "metadata": {},
   "source": [
    "# readme_tellme_repo_lang\n",
    "\n",
    "# Project Planning\n",
    "\n",
    "## Project Description\n",
    "This project involves creating a machine learning model that uses natural language processing techniques to analyze README files and predict the main programming language used in the corresponding repositories. This tool could significantly streamline codebase management and analysis, particularly in large-scale scenarios.\n",
    "\n",
    "## Project Goal\n",
    "Develop a predictive model to identify GitHub repository's primary programming language using README file content.\n",
    "\n",
    "## Initial Questions/Thoughts\n",
    "If the README.md file has some of the below information we could point out the different programming languages.\n",
    "- Find Keyword: Certain keywords might be more prevalent in README files of projects that use specific programming languages. For example, a README file for a Python project might frequently mention \"pip\", \"PyPI\", or \"Jupyter\", while a JavaScript project might mention \"npm\" or \"Node.js\". Finding the frequency of these keywords could provide clues about the primary programming language.\n",
    "- Exploring the Library and Framework References: Projects often mention the libraries and frameworks they use, which are usually language-specific. For instance, a project mentioning \"React\" or \"Express\" is likely to be JavaScript-based, while \"Pandas\" or \"Scikit-learn\" would suggest Python.\n",
    "- Looking at Code Snippets: Some README files include small code snippets or examples. If these are present, they can be a strong indicator of the programming language.\n",
    "- Using Natural Language Processing (NLP): More advanced techniques could involve using NLP to understand the context and semantics of the text in the README file. This could potentially uncover more subtle indicators of the programming language.\n",
    "\n",
    "\n",
    "## DATA Dictionary\n",
    "| Feature         | Description                                                            |\n",
    "|-----------------|------------------------------------------------------------------------|\n",
    "| repo            | The owners/organization and the repository name                        |\n",
    "| language        | The most common programming language in the repository                 |\n",
    "| readme_contents | The content inside the README.md file                                  |\n",
    "| clean           | The content after the prapare phase.                                   |\n",
    "| lemmatized      | The clean content after being lemmatized.                              |\n",
    "\n",
    "\n",
    "## The Plan\n",
    " ### Acquisition Phase:\n",
    "- The project commences with the acquisition of README files from a variety of repositories. Alongside these files, we also gather metadata about the repositories, which includes the primary programming language used. Our dataset included 960 repositories. We used GitHub's <a href='https://github.com/search?q=stars%3A%3E0&s=stars&type=Repositories'>the most starred repositories</a>. Generated the list of repositories programmatically using web scraping techniques.\n",
    " ### Preparation Phase:\n",
    "- Following acquisition, we move into the preparation phase. Here, the README text data underwent preprocessing, which encompasses cleaning, normalization, lemmatized, tokenization and removing stopwords. Simultaneously, the target variable, which is the primary programming language. Since the pages linked above change over time, note: \"Our data comes from the top 960 most starred repositories on GitHub as of 27 June 2023\".\n",
    " ### Exploration Phase:\n",
    "- Next, we enter the exploration phase. This involves conducting an exploratory data analysis on the README texts. The goal is to identify patterns, trends, and potential relationships between the text and the programming language used in the repository. Here we explorated the following ideas:\n",
    ">• What are the most common words in READMEs?    \n",
    ">• Does the length of the README vary by programming language?     \n",
    ">• Do different programming languages use a different number of unique words?     \n",
    ">• Are there any words that uniquely identify a programming language?     \n",
    " ### Modeling Phase:\n",
    "- The final phase is modeling. The data is divided into training, validate and testing sets. Transform our content into a format suitable for a machine learning model. Try fitting several different models and using several different representations of the text (e.g., a simple bag of words, then also the TF-IDF values for each). Build a function that took in the text of a README file and attempted to predict the programming language. \n",
    "- We used the top 3 languages (JavaScript, Objective-C, Java) and then label everything else as \"Other\" so that you have fewer unique values to predict. Each model's performance is evaluated on the testing set using appropriate metrics. The model that performs the best is then optimized and validated on unseen data.  \n",
    " \n",
    "\n",
    "## Steps to Reproduce\n",
    "In order to get started reproducing this project, you'll need to set up a proper environment.\n",
    "\n",
    "1. Create a new repository on GitHub to house this project.\n",
    "2. Clone it into your local machine by copying the SSH link from GitHub and running **'git clone <SSH link'>** in your terminal.   \n",
    "3.  Create a **.gitignore** file in your local repository and include any files you don't want to be tracked by Git or shared on the internet. You can create and edit this file by running **'code .gitignore'** or 'open .gitignore' in your terminal.\n",
    "\n",
    "4. Make a github personal access token.\n",
    "  >a. Go here and generate a personal access token https://github.com/settings/tokens     \n",
    "        You do _not_ need select any scopes, i.e. leave all the checkboxes unchecked    \n",
    "  b. Save it in your env.py file under the variable `github_token`      \n",
    "  c. Add your github username to your env.py file under the variable `github_username`       \n",
    "  d. Add more repositories to the `REPOS` list below.     \n",
    "\n",
    "5. Create a Jupyter Lab environment to continue working in. You can do this by running **'jupyter lab'** in your terminal.\n",
    "\n",
    "6. In Jupyter Lab, create a new Jupyter Notebook to begin the data pipeline.\n",
    "\n",
    "***Remember to regularly commit and push your changes to GitHub to ensure your work is saved and accessible from the remote repository.***"
   ]
  },
  {
   "cell_type": "code",
   "execution_count": 28,
   "id": "76bd6fe2-7f2f-4494-9921-512f90b26c54",
   "metadata": {},
   "outputs": [],
   "source": [
    "# imports\n",
    "import pandas as pd\n",
    "import numpy as np\n",
    "import requests\n",
    "import os\n",
    "import json\n",
    "import time\n",
    "import random\n",
    "from bs4 import BeautifulSoup\n",
    "\n",
    "# visualization\n",
    "import matplotlib.pyplot as plt\n",
    "import seaborn as sns\n",
    "\n",
    "import unicodedata\n",
    "import nltk\n",
    "from wordcloud import WordCloud\n",
    "from nltk import ngrams\n",
    "import nltk.sentiment\n",
    "\n",
    "# local\n",
    "import acquire as a\n",
    "import prepare as p\n",
    "from env import github_token, github_username"
   ]
  },
  {
   "cell_type": "code",
   "execution_count": 2,
   "id": "4a4e755c-df66-4689-aac1-5bc613dac32f",
   "metadata": {},
   "outputs": [],
   "source": [
    "df = a.get_readmes()"
   ]
  },
  {
   "cell_type": "code",
   "execution_count": 3,
   "id": "5a20af41-bf39-49d4-9892-db18b0f38320",
   "metadata": {},
   "outputs": [],
   "source": [
    "df = p.prep_readmes(df)"
   ]
  },
  {
   "cell_type": "code",
   "execution_count": 4,
   "id": "35db01b6-529c-48b7-ac4e-280a882d7087",
   "metadata": {},
   "outputs": [
    {
     "data": {
      "text/html": [
       "<div>\n",
       "<style scoped>\n",
       "    .dataframe tbody tr th:only-of-type {\n",
       "        vertical-align: middle;\n",
       "    }\n",
       "\n",
       "    .dataframe tbody tr th {\n",
       "        vertical-align: top;\n",
       "    }\n",
       "\n",
       "    .dataframe thead th {\n",
       "        text-align: right;\n",
       "    }\n",
       "</style>\n",
       "<table border=\"1\" class=\"dataframe\">\n",
       "  <thead>\n",
       "    <tr style=\"text-align: right;\">\n",
       "      <th></th>\n",
       "      <th>repo</th>\n",
       "      <th>language</th>\n",
       "      <th>readme_contents</th>\n",
       "      <th>clean</th>\n",
       "      <th>lemmatized</th>\n",
       "      <th>top3other</th>\n",
       "    </tr>\n",
       "  </thead>\n",
       "  <tbody>\n",
       "    <tr>\n",
       "      <th>0</th>\n",
       "      <td>smileyborg/TableViewCellWithAutoLayoutiOS8</td>\n",
       "      <td>Swift</td>\n",
       "      <td>TableViewCellWithAutoLayoutiOS8\\n=============...</td>\n",
       "      <td>tableviewcellwithautolayoutios note sample pro...</td>\n",
       "      <td>tableviewcellwithautolayoutios note sample pro...</td>\n",
       "      <td>other</td>\n",
       "    </tr>\n",
       "    <tr>\n",
       "      <th>1</th>\n",
       "      <td>taion/scroll-behavior</td>\n",
       "      <td>JavaScript</td>\n",
       "      <td># scroll-behavior [![Travis][build-badge]][bui...</td>\n",
       "      <td>scroll behavior travis build badge build npm n...</td>\n",
       "      <td>scroll behavior travis build badge build npm n...</td>\n",
       "      <td>JavaScript</td>\n",
       "    </tr>\n",
       "    <tr>\n",
       "      <th>2</th>\n",
       "      <td>Pixate/pixate-freestyle-ios</td>\n",
       "      <td>Objective-C</td>\n",
       "      <td># Pixate Freestyle\\n\\nPixate Freestyle is a na...</td>\n",
       "      <td>pixate freestyle pixate freestyle native ios a...</td>\n",
       "      <td>pixate freestyle pixate freestyle native io an...</td>\n",
       "      <td>Objective-C</td>\n",
       "    </tr>\n",
       "    <tr>\n",
       "      <th>3</th>\n",
       "      <td>tekinarslan/AndroidMaterialDesignToolbar</td>\n",
       "      <td>Java</td>\n",
       "      <td>AndroidMaterialDesignToolbar  -- PROJECT IS NO...</td>\n",
       "      <td>androidmaterialdesigntoolbar project supported...</td>\n",
       "      <td>androidmaterialdesigntoolbar project supported...</td>\n",
       "      <td>Java</td>\n",
       "    </tr>\n",
       "    <tr>\n",
       "      <th>4</th>\n",
       "      <td>zzarcon/microm</td>\n",
       "      <td>JavaScript</td>\n",
       "      <td>&lt;h1 align=center&gt;\\n&lt;img src=\"logo/1024 logotyp...</td>\n",
       "      <td>h aligncenter img srclogo logotype png width h...</td>\n",
       "      <td>h aligncenter img srclogo logotype png width h...</td>\n",
       "      <td>JavaScript</td>\n",
       "    </tr>\n",
       "    <tr>\n",
       "      <th>...</th>\n",
       "      <td>...</td>\n",
       "      <td>...</td>\n",
       "      <td>...</td>\n",
       "      <td>...</td>\n",
       "      <td>...</td>\n",
       "      <td>...</td>\n",
       "    </tr>\n",
       "    <tr>\n",
       "      <th>539</th>\n",
       "      <td>ryanlecompte/redis_failover</td>\n",
       "      <td>Ruby</td>\n",
       "      <td># Automatic Redis Failover\\n\\n[![Build Status]...</td>\n",
       "      <td>automatic redis failover build status https se...</td>\n",
       "      <td>automatic redis failover build status http sec...</td>\n",
       "      <td>other</td>\n",
       "    </tr>\n",
       "    <tr>\n",
       "      <th>540</th>\n",
       "      <td>ctripcorp/moles-packer</td>\n",
       "      <td>JavaScript</td>\n",
       "      <td>#   Moles Packer\\n\\n[![Join the chat at https:...</td>\n",
       "      <td>moles packer join chat https gitter im ctripco...</td>\n",
       "      <td>mole packer join chat http gitter im ctripcorp...</td>\n",
       "      <td>JavaScript</td>\n",
       "    </tr>\n",
       "    <tr>\n",
       "      <th>541</th>\n",
       "      <td>alibaba/funcraft</td>\n",
       "      <td>JavaScript</td>\n",
       "      <td># Funcraft\\n\\n(have)Fun with Serverless\\n\\n![l...</td>\n",
       "      <td>funcraft havefun serverless logo jpg https tan...</td>\n",
       "      <td>funcraft havefun serverless logo jpg http tan ...</td>\n",
       "      <td>JavaScript</td>\n",
       "    </tr>\n",
       "    <tr>\n",
       "      <th>542</th>\n",
       "      <td>cisco/thor</td>\n",
       "      <td>C</td>\n",
       "      <td># Thor Video Codec \\n\\nImplementation of [http...</td>\n",
       "      <td>thor video codec implementation https tools ie...</td>\n",
       "      <td>thor video codec implementation http tool ietf...</td>\n",
       "      <td>other</td>\n",
       "    </tr>\n",
       "    <tr>\n",
       "      <th>543</th>\n",
       "      <td>nfl/react-metrics</td>\n",
       "      <td>JavaScript</td>\n",
       "      <td>&lt;img align=\"right\" height=\"200\" src=\"http://st...</td>\n",
       "      <td>img alignright height srchttp static nfl com s...</td>\n",
       "      <td>img alignright height srchttp static nfl com s...</td>\n",
       "      <td>JavaScript</td>\n",
       "    </tr>\n",
       "  </tbody>\n",
       "</table>\n",
       "<p>544 rows × 6 columns</p>\n",
       "</div>"
      ],
      "text/plain": [
       "                                           repo     language  \\\n",
       "0    smileyborg/TableViewCellWithAutoLayoutiOS8        Swift   \n",
       "1                         taion/scroll-behavior   JavaScript   \n",
       "2                   Pixate/pixate-freestyle-ios  Objective-C   \n",
       "3      tekinarslan/AndroidMaterialDesignToolbar         Java   \n",
       "4                                zzarcon/microm   JavaScript   \n",
       "..                                          ...          ...   \n",
       "539                 ryanlecompte/redis_failover         Ruby   \n",
       "540                      ctripcorp/moles-packer   JavaScript   \n",
       "541                            alibaba/funcraft   JavaScript   \n",
       "542                                  cisco/thor            C   \n",
       "543                           nfl/react-metrics   JavaScript   \n",
       "\n",
       "                                       readme_contents  \\\n",
       "0    TableViewCellWithAutoLayoutiOS8\\n=============...   \n",
       "1    # scroll-behavior [![Travis][build-badge]][bui...   \n",
       "2    # Pixate Freestyle\\n\\nPixate Freestyle is a na...   \n",
       "3    AndroidMaterialDesignToolbar  -- PROJECT IS NO...   \n",
       "4    <h1 align=center>\\n<img src=\"logo/1024 logotyp...   \n",
       "..                                                 ...   \n",
       "539  # Automatic Redis Failover\\n\\n[![Build Status]...   \n",
       "540  #   Moles Packer\\n\\n[![Join the chat at https:...   \n",
       "541  # Funcraft\\n\\n(have)Fun with Serverless\\n\\n![l...   \n",
       "542  # Thor Video Codec \\n\\nImplementation of [http...   \n",
       "543  <img align=\"right\" height=\"200\" src=\"http://st...   \n",
       "\n",
       "                                                 clean  \\\n",
       "0    tableviewcellwithautolayoutios note sample pro...   \n",
       "1    scroll behavior travis build badge build npm n...   \n",
       "2    pixate freestyle pixate freestyle native ios a...   \n",
       "3    androidmaterialdesigntoolbar project supported...   \n",
       "4    h aligncenter img srclogo logotype png width h...   \n",
       "..                                                 ...   \n",
       "539  automatic redis failover build status https se...   \n",
       "540  moles packer join chat https gitter im ctripco...   \n",
       "541  funcraft havefun serverless logo jpg https tan...   \n",
       "542  thor video codec implementation https tools ie...   \n",
       "543  img alignright height srchttp static nfl com s...   \n",
       "\n",
       "                                            lemmatized    top3other  \n",
       "0    tableviewcellwithautolayoutios note sample pro...        other  \n",
       "1    scroll behavior travis build badge build npm n...   JavaScript  \n",
       "2    pixate freestyle pixate freestyle native io an...  Objective-C  \n",
       "3    androidmaterialdesigntoolbar project supported...         Java  \n",
       "4    h aligncenter img srclogo logotype png width h...   JavaScript  \n",
       "..                                                 ...          ...  \n",
       "539  automatic redis failover build status http sec...        other  \n",
       "540  mole packer join chat http gitter im ctripcorp...   JavaScript  \n",
       "541  funcraft havefun serverless logo jpg http tan ...   JavaScript  \n",
       "542  thor video codec implementation http tool ietf...        other  \n",
       "543  img alignright height srchttp static nfl com s...   JavaScript  \n",
       "\n",
       "[544 rows x 6 columns]"
      ]
     },
     "execution_count": 4,
     "metadata": {},
     "output_type": "execute_result"
    }
   ],
   "source": [
    "df"
   ]
  },
  {
   "cell_type": "code",
   "execution_count": 7,
   "id": "c2e274b6-2204-4cb1-8073-9f19c597e619",
   "metadata": {},
   "outputs": [],
   "source": [
    "strat = \"top3other\""
   ]
  },
  {
   "cell_type": "code",
   "execution_count": 8,
   "id": "e23fab8c-2e6f-41c6-aa77-39e0cd26c203",
   "metadata": {},
   "outputs": [
    {
     "data": {
      "text/html": [
       "<div>\n",
       "<style scoped>\n",
       "    .dataframe tbody tr th:only-of-type {\n",
       "        vertical-align: middle;\n",
       "    }\n",
       "\n",
       "    .dataframe tbody tr th {\n",
       "        vertical-align: top;\n",
       "    }\n",
       "\n",
       "    .dataframe thead th {\n",
       "        text-align: right;\n",
       "    }\n",
       "</style>\n",
       "<table border=\"1\" class=\"dataframe\">\n",
       "  <thead>\n",
       "    <tr style=\"text-align: right;\">\n",
       "      <th></th>\n",
       "      <th>repo</th>\n",
       "      <th>language</th>\n",
       "      <th>readme_contents</th>\n",
       "      <th>clean</th>\n",
       "      <th>lemmatized</th>\n",
       "      <th>top3other</th>\n",
       "    </tr>\n",
       "  </thead>\n",
       "  <tbody>\n",
       "    <tr>\n",
       "      <th>419</th>\n",
       "      <td>tubalmartin/riloadr</td>\n",
       "      <td>JavaScript</td>\n",
       "      <td># Riloadr 1.5.3 - Jul 29, 2014\\n\\nA cross-brow...</td>\n",
       "      <td>riloadr jul cross browser framework independen...</td>\n",
       "      <td>riloadr jul cross browser framework independen...</td>\n",
       "      <td>JavaScript</td>\n",
       "    </tr>\n",
       "    <tr>\n",
       "      <th>416</th>\n",
       "      <td>Yalantis/ColorMatchTabs</td>\n",
       "      <td>Swift</td>\n",
       "      <td># ColorMatchTabs\\n\\n![cocoapods](https://img.s...</td>\n",
       "      <td>colormatchtabs cocoapods https img shields io ...</td>\n",
       "      <td>colormatchtabs cocoapods http img shield io co...</td>\n",
       "      <td>other</td>\n",
       "    </tr>\n",
       "    <tr>\n",
       "      <th>137</th>\n",
       "      <td>lukescott/DraggableCollectionView</td>\n",
       "      <td>Objective-C</td>\n",
       "      <td>DraggableCollectionView\\n=====================...</td>\n",
       "      <td>draggablecollectionview extension uicollection...</td>\n",
       "      <td>draggablecollectionview extension uicollection...</td>\n",
       "      <td>Objective-C</td>\n",
       "    </tr>\n",
       "    <tr>\n",
       "      <th>244</th>\n",
       "      <td>Zewo/Zewo</td>\n",
       "      <td>Swift</td>\n",
       "      <td>&lt;p align=\"center\"&gt;\\n    &lt;a href=\"http://zewo.i...</td>\n",
       "      <td>p aligncenter hrefhttp zewo ioimg srchttps raw...</td>\n",
       "      <td>p aligncenter hrefhttp zewo ioimg srchttps raw...</td>\n",
       "      <td>other</td>\n",
       "    </tr>\n",
       "    <tr>\n",
       "      <th>333</th>\n",
       "      <td>neonbjb/tortoise-tts</td>\n",
       "      <td>Python</td>\n",
       "      <td># TorToiSe\\n\\nTortoise is a text-to-speech pro...</td>\n",
       "      <td>tortoise tortoise text speech program built fo...</td>\n",
       "      <td>tortoise tortoise text speech program built fo...</td>\n",
       "      <td>other</td>\n",
       "    </tr>\n",
       "    <tr>\n",
       "      <th>...</th>\n",
       "      <td>...</td>\n",
       "      <td>...</td>\n",
       "      <td>...</td>\n",
       "      <td>...</td>\n",
       "      <td>...</td>\n",
       "      <td>...</td>\n",
       "    </tr>\n",
       "    <tr>\n",
       "      <th>240</th>\n",
       "      <td>argerim/select2-rails</td>\n",
       "      <td>Ruby</td>\n",
       "      <td># Select2 for rails asset pipeline\\n\\n[Select2...</td>\n",
       "      <td>select rails asset pipeline select https githu...</td>\n",
       "      <td>select rail asset pipeline select http github ...</td>\n",
       "      <td>other</td>\n",
       "    </tr>\n",
       "    <tr>\n",
       "      <th>386</th>\n",
       "      <td>graphistry/pygraphistry</td>\n",
       "      <td>Python</td>\n",
       "      <td># PyGraphistry: Explore Relationships\\n\\n![Bui...</td>\n",
       "      <td>pygraphistry explore relationships build statu...</td>\n",
       "      <td>pygraphistry explore relationship build status...</td>\n",
       "      <td>other</td>\n",
       "    </tr>\n",
       "    <tr>\n",
       "      <th>239</th>\n",
       "      <td>bhavesh-hirpara/MultipleImagePick</td>\n",
       "      <td>Java</td>\n",
       "      <td># Smart Gallery with Single and Multiple image...</td>\n",
       "      <td>smart gallery single multiple image pick actio...</td>\n",
       "      <td>smart gallery single multiple image pick actio...</td>\n",
       "      <td>Java</td>\n",
       "    </tr>\n",
       "    <tr>\n",
       "      <th>217</th>\n",
       "      <td>stripe-archive/react-stripe-elements</td>\n",
       "      <td>JavaScript</td>\n",
       "      <td>## We’ve moved to [@stripe/react-stripe-js](ht...</td>\n",
       "      <td>weve moved stripe react stripe js https github...</td>\n",
       "      <td>weve moved stripe react stripe j http github c...</td>\n",
       "      <td>JavaScript</td>\n",
       "    </tr>\n",
       "    <tr>\n",
       "      <th>485</th>\n",
       "      <td>rowanmanning/joblint</td>\n",
       "      <td>JavaScript</td>\n",
       "      <td>\\n&gt; **Warning**\\n&gt;\\n&gt; Hiya :wave: Joblint is v...</td>\n",
       "      <td>warning hiya wave joblint much active developm...</td>\n",
       "      <td>warning hiya wave joblint much active developm...</td>\n",
       "      <td>JavaScript</td>\n",
       "    </tr>\n",
       "  </tbody>\n",
       "</table>\n",
       "<p>326 rows × 6 columns</p>\n",
       "</div>"
      ],
      "text/plain": [
       "                                     repo     language  \\\n",
       "419                   tubalmartin/riloadr   JavaScript   \n",
       "416               Yalantis/ColorMatchTabs        Swift   \n",
       "137     lukescott/DraggableCollectionView  Objective-C   \n",
       "244                             Zewo/Zewo        Swift   \n",
       "333                  neonbjb/tortoise-tts       Python   \n",
       "..                                    ...          ...   \n",
       "240                 argerim/select2-rails         Ruby   \n",
       "386               graphistry/pygraphistry       Python   \n",
       "239     bhavesh-hirpara/MultipleImagePick         Java   \n",
       "217  stripe-archive/react-stripe-elements   JavaScript   \n",
       "485                  rowanmanning/joblint   JavaScript   \n",
       "\n",
       "                                       readme_contents  \\\n",
       "419  # Riloadr 1.5.3 - Jul 29, 2014\\n\\nA cross-brow...   \n",
       "416  # ColorMatchTabs\\n\\n![cocoapods](https://img.s...   \n",
       "137  DraggableCollectionView\\n=====================...   \n",
       "244  <p align=\"center\">\\n    <a href=\"http://zewo.i...   \n",
       "333  # TorToiSe\\n\\nTortoise is a text-to-speech pro...   \n",
       "..                                                 ...   \n",
       "240  # Select2 for rails asset pipeline\\n\\n[Select2...   \n",
       "386  # PyGraphistry: Explore Relationships\\n\\n![Bui...   \n",
       "239  # Smart Gallery with Single and Multiple image...   \n",
       "217  ## We’ve moved to [@stripe/react-stripe-js](ht...   \n",
       "485  \\n> **Warning**\\n>\\n> Hiya :wave: Joblint is v...   \n",
       "\n",
       "                                                 clean  \\\n",
       "419  riloadr jul cross browser framework independen...   \n",
       "416  colormatchtabs cocoapods https img shields io ...   \n",
       "137  draggablecollectionview extension uicollection...   \n",
       "244  p aligncenter hrefhttp zewo ioimg srchttps raw...   \n",
       "333  tortoise tortoise text speech program built fo...   \n",
       "..                                                 ...   \n",
       "240  select rails asset pipeline select https githu...   \n",
       "386  pygraphistry explore relationships build statu...   \n",
       "239  smart gallery single multiple image pick actio...   \n",
       "217  weve moved stripe react stripe js https github...   \n",
       "485  warning hiya wave joblint much active developm...   \n",
       "\n",
       "                                            lemmatized    top3other  \n",
       "419  riloadr jul cross browser framework independen...   JavaScript  \n",
       "416  colormatchtabs cocoapods http img shield io co...        other  \n",
       "137  draggablecollectionview extension uicollection...  Objective-C  \n",
       "244  p aligncenter hrefhttp zewo ioimg srchttps raw...        other  \n",
       "333  tortoise tortoise text speech program built fo...        other  \n",
       "..                                                 ...          ...  \n",
       "240  select rail asset pipeline select http github ...        other  \n",
       "386  pygraphistry explore relationship build status...        other  \n",
       "239  smart gallery single multiple image pick actio...         Java  \n",
       "217  weve moved stripe react stripe j http github c...   JavaScript  \n",
       "485  warning hiya wave joblint much active developm...   JavaScript  \n",
       "\n",
       "[326 rows x 6 columns]"
      ]
     },
     "execution_count": 8,
     "metadata": {},
     "output_type": "execute_result"
    }
   ],
   "source": [
    "train, validate, test = p.split_data(df, strat, seed=42, test=.2, validate=.25)\n",
    "train"
   ]
  },
  {
   "cell_type": "markdown",
   "id": "b67e3dae-9423-4241-83e7-432554fdcee0",
   "metadata": {},
   "source": [
    "## Do different programming languages use a different number of unique words?   "
   ]
  },
  {
   "cell_type": "code",
   "execution_count": 46,
   "id": "fce58f08-9173-4975-a10e-3bfb9ef2f4ce",
   "metadata": {
    "scrolled": true,
    "tags": []
   },
   "outputs": [
    {
     "name": "stdout",
     "output_type": "stream",
     "text": [
      "# scroll-behavior [![Travis][build-badge]][build] [![npm][npm-badge]][npm]\n",
      "\n",
      "Pluggable browser scroll management.\n",
      "\n",
      "**This library is not generally meant to be used directly by applications. Instead, it's meant to be used in integrations for routing libraries or frameworks. For examples of such integrations, see:**\n",
      "\n",
      "- [Found Scroll](https://github.com/4Catalyzer/found-scroll): Integration for [Found](https://github.com/4Catalyzer/found)\n",
      "- [react-router-scroll](https://github.com/taion/react-router-scroll): Integration for [React Router](https://github.com/reactjs/react-router) v2 and v3\n",
      "\n",
      "[![Codecov][codecov-badge]][codecov]\n",
      "[![Discord][discord-badge]][discord]\n",
      "\n",
      "## Usage\n",
      "\n",
      "```js\n",
      "import ScrollBehavior from 'scroll-behavior';\n",
      "\n",
      "/* ... */\n",
      "\n",
      "const scrollBehavior = new ScrollBehavior({\n",
      "  addNavigationListener,\n",
      "  stateStorage,\n",
      "  getCurrentLocation,\n",
      "  /* shouldUpdateScroll, */\n",
      "});\n",
      "\n",
      "// After navigation:\n",
      "scrollBehavior.updateScroll(/* prevContext, context */);\n",
      "```\n",
      "\n",
      "## Guide\n",
      "\n",
      "### Installation\n",
      "\n",
      "```\n",
      "$ npm i -S scroll-behavior\n",
      "```\n",
      "\n",
      "### Basic usage\n",
      "\n",
      "Create a `ScrollBehavior` object with the following arguments:\n",
      "\n",
      "- `addNavigationListener`: this function should take a navigation listener function and return an unlisten function\n",
      "  - The navigation listener function should be called immediately before navigation updates the page\n",
      "  - The unlisten function should remove the navigation listener when called\n",
      "- `stateStorage`: this object should implement `read` and `save` methods\n",
      "  - The `save` method should take a location object, a nullable element key, and a truthy value; it should save that value for the duration of the page session\n",
      "  - The `read` method should take a location object and a nullable element key; it should return the value that `save` was called with for that location and element key, or a falsy value if no saved value is available\n",
      "- `getCurrentLocation`: this function should return the current location object\n",
      "\n",
      "This object will keep track of the scroll position. Call the `updateScroll` method on this object after navigation to emulate the default browser scroll behavior on page changes.\n",
      "\n",
      "Call the `stop` method to tear down all listeners.\n",
      "\n",
      "### Custom scroll behavior\n",
      "\n",
      "You can customize the scroll behavior by providing a `shouldUpdateScroll` callback when constructing the `ScrollBehavior` object. When you call `updateScroll`, you can pass in up to two additional context arguments, which will get passed to this callback.\n",
      "\n",
      "The callback can return:\n",
      "\n",
      "- a falsy value to suppress updating the scroll position\n",
      "- a position array of `x` and `y`, such as `[0, 100]`, to scroll to that position\n",
      "- a string with the `id` or `name` of an element, to scroll to that element\n",
      "- a truthy value to emulate the browser default scroll behavior\n",
      "\n",
      "Assuming we call `updateScroll` with the previous and current location objects:\n",
      "\n",
      "```js\n",
      "const scrollBehavior = new ScrollBehavior({\n",
      "  ...options,\n",
      "  shouldUpdateScroll: (prevLocation, location) =>\n",
      "    // Don't scroll if the pathname is the same.\n",
      "    !prevLocation || location.pathname !== prevLocation.pathname,\n",
      "});\n",
      "```\n",
      "\n",
      "```js\n",
      "const scrollBehavior = new ScrollBehavior({\n",
      "  ...options,\n",
      "  shouldUpdateScroll: (prevLocation, location) =>\n",
      "    // Scroll to top when attempting to visit the current path.\n",
      "    prevLocation && location.pathname === prevLocation.pathname\n",
      "      ? [0, 0]\n",
      "      : true,\n",
      "});\n",
      "```\n",
      "\n",
      "### Scrolling elements other than `window`\n",
      "\n",
      "Call the `registerElement` method to register an element other than `window` to have managed scroll behavior. Each of these elements needs to be given a unique key at registration time, and can be given an optional `shouldUpdateScroll` callback that behaves as above. This method should also be called with the current context per `updateScroll` above, if applicable, to set up the element's initial scroll position.\n",
      "\n",
      "```js\n",
      "scrollBehavior.registerScrollElement(\n",
      "  key,\n",
      "  element,\n",
      "  shouldUpdateScroll,\n",
      "  context,\n",
      ");\n",
      "```\n",
      "\n",
      "To unregister an element, call the `unregisterElement` method with the key used to register that element.\n",
      "\n",
      "### Further scroll behavior customization\n",
      "\n",
      "If you need to further customize scrolling behavior, subclass the `ScrollBehavior` class, then override methods as needed. For example, with the appropriate polyfill, you can override `scrollToTarget` to use smooth scrolling for `window`.\n",
      "\n",
      "```js\n",
      "class SmoothScrollBehavior extends ScrollBehavior {\n",
      "  scrollToTarget(element, target) {\n",
      "    if (element !== window) {\n",
      "      super.scrollToTarget(element, target);\n",
      "      return;\n",
      "    }\n",
      "\n",
      "    if (typeof target === 'string') {\n",
      "      const targetElement =\n",
      "        document.getElementById(target) ||\n",
      "        document.getElementsByName(target)[0];\n",
      "      if (targetElement) {\n",
      "        targetElement.scrollIntoView({ behavior: 'smooth' });\n",
      "        return;\n",
      "      }\n",
      "\n",
      "      // Fallback to scrolling to top when target fragment doesn't exist.\n",
      "      target = [0, 0]; // eslint-disable-line no-param-reassign\n",
      "    }\n",
      "\n",
      "    const [left, top] = target;\n",
      "    window.scrollTo({ left, top, behavior: 'smooth' });\n",
      "  }\n",
      "}\n",
      "```\n",
      "\n",
      "Integrations should accept a `createScrollBehavior` callback that can create an instance of a custom scroll behavior class.\n",
      "\n",
      "[build-badge]: https://img.shields.io/travis/taion/scroll-behavior/master.svg\n",
      "[build]: https://travis-ci.org/taion/scroll-behavior\n",
      "[npm-badge]: https://img.shields.io/npm/v/scroll-behavior.svg\n",
      "[npm]: https://www.npmjs.org/package/scroll-behavior\n",
      "[codecov-badge]: https://img.shields.io/codecov/c/github/taion/scroll-behavior/master.svg\n",
      "[codecov]: https://codecov.io/gh/taion/scroll-behavior\n",
      "[discord-badge]: https://img.shields.io/badge/Discord-join%20chat%20%E2%86%92-738bd7.svg\n",
      "[discord]: https://discord.gg/0ZcbPKXt5bYaNQ46\n",
      "\n"
     ]
    }
   ],
   "source": [
    "filtered_df = df[df['top3other'] == 'JavaScript']\n",
    "print(filtered_df['readme_contents'].iloc[0])"
   ]
  },
  {
   "cell_type": "code",
   "execution_count": 45,
   "id": "6dc7e2b2-5f7b-423d-9441-28c7075b9a0e",
   "metadata": {},
   "outputs": [
    {
     "name": "stdout",
     "output_type": "stream",
     "text": [
      "scroll behavior travis build badge build npm npm badge npm pluggable browser scroll management library generally meant used directly application instead meant used integration routing library framework example integration see found scroll http github com catalyzer found scroll integration found http github com catalyzer found react router scroll http github com taion react router scroll integration react router http github com reactjs react router v v codecov codecov badge codecov discord discord badge discord usage j import scrollbehavior scroll behavior const scrollbehavior new scrollbehavior addnavigationlistener statestorage getcurrentlocation shouldupdatescroll navigation scrollbehavior updatescroll prevcontext context guide installation npm scroll behavior basic usage create scrollbehavior object following argument addnavigationlistener function take navigation listener function return unlisten function navigation listener function called immediately navigation update page unlisten function remove navigation listener called statestorage object implement read save method save method take location object nullable element key truthy value save value duration page session read method take location object nullable element key return value save called location element key falsy value saved value available getcurrentlocation function return current location object object keep track scroll position call updatescroll method object navigation emulate default browser scroll behavior page change call stop method tear listener custom scroll behavior customize scroll behavior providing shouldupdatescroll callback constructing scrollbehavior object call updatescroll pas two additional context argument get passed callback callback return falsy value suppress updating scroll position position array x scroll position string id name element scroll element truthy value emulate browser default scroll behavior assuming call updatescroll previous current location object j const scrollbehavior new scrollbehavior option shouldupdatescroll prevlocation location scroll pathname prevlocation location pathname prevlocation pathname j const scrollbehavior new scrollbehavior option shouldupdatescroll prevlocation location scroll top attempting visit current path prevlocation location pathname prevlocation pathname true scrolling element window call registerelement method register element window managed scroll behavior element need given unique key registration time given optional shouldupdatescroll callback behaves method also called current context per updatescroll applicable set element initial scroll position j scrollbehavior registerscrollelement key element shouldupdatescroll context unregister element call unregisterelement method key used register element scroll behavior customization need customize scrolling behavior subclass scrollbehavior class override method needed example appropriate polyfill override scrolltotarget use smooth scrolling window j class smoothscrollbehavior extends scrollbehavior scrolltotargetelement target element window super scrolltotargetelement target return typeof target string const targetelement document getelementbyidtarget document getelementsbynametarget targetelement targetelement scrollintoview behavior smooth return fallback scrolling top target fragment exist target eslint disable line param reassign const left top target window scrollto left top behavior smooth integration accept createscrollbehavior callback create instance custom scroll behavior class build badge http img shield io travis taion scroll behavior master svg build http travis ci org taion scroll behavior npm badge http img shield io npm v scroll behavior svg npm http www npmjs org package scroll behavior codecov badge http img shield io codecov c github taion scroll behavior master svg codecov http codecov io gh taion scroll behavior discord badge http img shield io badge discord joinchate bd svg discord http discord gg zcbpkxtbyanq\n"
     ]
    }
   ],
   "source": [
    "filtered_df = df[df['top3other'] == 'JavaScript']\n",
    "print(filtered_df['lemmatized'].iloc[0])"
   ]
  },
  {
   "cell_type": "code",
   "execution_count": 9,
   "id": "ef4ea283-d7f2-44be-8651-f00365218dd3",
   "metadata": {},
   "outputs": [
    {
     "data": {
      "text/plain": [
       "other          231\n",
       "JavaScript     150\n",
       "Objective-C     92\n",
       "Java            71\n",
       "Name: top3other, dtype: int64"
      ]
     },
     "execution_count": 9,
     "metadata": {},
     "output_type": "execute_result"
    }
   ],
   "source": [
    "df['top3other'].value_counts()"
   ]
  },
  {
   "cell_type": "code",
   "execution_count": 15,
   "id": "1bb597b0-de4d-42c2-a477-89d5a7898a5a",
   "metadata": {},
   "outputs": [],
   "source": [
    "def count_unique_words(code):\n",
    "    unique_words = set(code)\n",
    "    return len(unique_words)"
   ]
  },
  {
   "cell_type": "code",
   "execution_count": 20,
   "id": "6e01d93b-c5d4-4226-b1c3-9f8e3366daa5",
   "metadata": {},
   "outputs": [],
   "source": [
    "# Assume we have some code samples\n",
    "javascript = [word for row in train[train.top3other=='JavaScript']['lemmatized'] for word in row.split()]\n",
    "java = [word for row in train[train.top3other=='Java']['lemmatized'] for word in row.split()]\n",
    "objective_c = [word for row in train[train.top3other=='Objective-C']['lemmatized'] for word in row.split()]\n",
    "other = [word for row in train[train.top3other=='other']['lemmatized'] for word in row.split()]\n",
    "all_words = [word for row in train['lemmatized'] for word in row.split()]"
   ]
  },
  {
   "cell_type": "code",
   "execution_count": 22,
   "id": "8af3d2ee-57e4-404c-bd99-66a14531c479",
   "metadata": {},
   "outputs": [
    {
     "name": "stdout",
     "output_type": "stream",
     "text": [
      "JavaScript unique words: 7336\n",
      "Java unique words: 2825\n",
      "Objective-C unique words: 4045\n",
      "Other unique words: 10915\n",
      "Other unique words: 18611\n"
     ]
    }
   ],
   "source": [
    "print(\"JavaScript unique words:\", count_unique_words(javascript))\n",
    "print(\"Java unique words:\", count_unique_words(java))\n",
    "print(\"Objective-C unique words:\", count_unique_words(objective_c))\n",
    "print(\"Other unique words:\", count_unique_words(other))\n",
    "print(\"Other unique words:\", count_unique_words(all_words))"
   ]
  },
  {
   "cell_type": "code",
   "execution_count": 50,
   "id": "c25b5a2e-8aca-4d9a-b36d-bc0f8e2505fe",
   "metadata": {},
   "outputs": [],
   "source": [
    "def make_ngrams(words, n):\n",
    "    return pd.Series(nltk.ngrams(words, n)).value_counts().head(20)"
   ]
  },
  {
   "cell_type": "code",
   "execution_count": 66,
   "id": "05155cae-ffd8-41dd-81a5-51e8a4ceac80",
   "metadata": {},
   "outputs": [],
   "source": [
    "javascript_list = make_ngrams(javascript, 1)"
   ]
  },
  {
   "cell_type": "code",
   "execution_count": 67,
   "id": "2b7fac16-ae33-4424-8a0a-3ee01d6f9132",
   "metadata": {},
   "outputs": [],
   "source": [
    "java_list = make_ngrams(java, 1)"
   ]
  },
  {
   "cell_type": "code",
   "execution_count": 68,
   "id": "38d9ef6c-99f2-4f46-90c5-a6f0f91a4a01",
   "metadata": {},
   "outputs": [],
   "source": [
    "objective_c_list = make_ngrams(objective_c, 1)"
   ]
  },
  {
   "cell_type": "code",
   "execution_count": 69,
   "id": "5b2f3aae-a05e-4f25-83b7-c4a05eb414dd",
   "metadata": {},
   "outputs": [],
   "source": [
    "other_list = make_ngrams(other, 1)"
   ]
  },
  {
   "cell_type": "code",
   "execution_count": 47,
   "id": "fc133de8-3621-44d8-8ae9-fe986828d890",
   "metadata": {},
   "outputs": [],
   "source": [
    "def plot_ngrams(words):\n",
    "    words_data = {k[0] + ' ': v for k, v in words.to_dict().items()}\n",
    "    words_img = WordCloud(background_color='white', width=800, height=400).generate_from_frequencies(words_data)\n",
    "    plt.figure(figsize=(8, 4))\n",
    "    plt.imshow(words_img)\n",
    "    plt.axis('off')\n",
    "    plt.show()"
   ]
  },
  {
   "cell_type": "code",
   "execution_count": 52,
   "id": "6e4b618b-8a50-40f1-982b-cdd45bcb7499",
   "metadata": {},
   "outputs": [
    {
     "data": {
      "text/plain": [
       "<AxesSubplot:>"
      ]
     },
     "execution_count": 52,
     "metadata": {},
     "output_type": "execute_result"
    },
    {
     "data": {
      "image/png": "[encoded data removed]",
      "text/plain": [
       "<Figure size 1200x800 with 1 Axes>"
      ]
     },
     "metadata": {},
     "output_type": "display_data"
    }
   ],
   "source": [
    "javascript_list.sort_values(ascending=False).plot.barh(width=.9, figsize=(12,8))"
   ]
  },
  {
   "cell_type": "markdown",
   "id": "2371dd43-9fbc-420e-b35c-933b9da573dc",
   "metadata": {
    "tags": []
   },
   "source": [
    "## Are there any words that uniquely identify a programming language?"
   ]
  },
  {
   "cell_type": "code",
   "execution_count": 64,
   "id": "3ef83622-4594-474d-83aa-06c662a0d2b8",
   "metadata": {},
   "outputs": [],
   "source": [
    "javascript_data = {k[0]+' ': v for k, v in javascript_list.to_dict().items()}"
   ]
  },
  {
   "cell_type": "code",
   "execution_count": 65,
   "id": "8fd4eff1-7d22-432b-a215-3e129ad8ef40",
   "metadata": {},
   "outputs": [],
   "source": [
    "java_data = {k[0]+' ': v for k, v in java_list.to_dict().items()}"
   ]
  },
  {
   "cell_type": "code",
   "execution_count": 70,
   "id": "705eff02-58b0-4db0-bf56-c3f91e1bfe86",
   "metadata": {},
   "outputs": [],
   "source": [
    "objective_c_data = {k[0]+' ': v for k, v in objective_c_list.to_dict().items()}"
   ]
  },
  {
   "cell_type": "code",
   "execution_count": 71,
   "id": "707221a2-71c6-4e8f-a3a9-b54c8bec4361",
   "metadata": {},
   "outputs": [],
   "source": [
    "other_data = {k[0]+' ': v for k, v in other_list.to_dict().items()}"
   ]
  },
  {
   "cell_type": "code",
   "execution_count": 72,
   "id": "7eb3712a-07c3-4826-997f-1aa11bd6ed82",
   "metadata": {},
   "outputs": [],
   "source": [
    "# Assume we have sets of words for each language\n",
    "javascript_words = set(javascript_data.keys())\n",
    "java_words = set(java_data.keys())\n",
    "objective_c_words = set(objective_c_data.keys())\n",
    "other_words = set(other_data.keys())\n",
    "\n",
    "# Find common words\n",
    "common_words = javascript_words & java_words & objective_c_words & other_words\n",
    "\n",
    "# Find unique words for each language\n",
    "unique_javascript_words = javascript_words - common_words\n",
    "unique_java_words = java_words - common_words\n",
    "unique_objective_c_words = objective_c_words - common_words\n",
    "unique_other_words = other_words - common_words\n",
    "\n",
    "# Now, unique_javascript_words, unique_java_words, unique_objective_c_words, and unique_other_words\n",
    "# are sets of words that are unique to each language\n"
   ]
  },
  {
   "cell_type": "code",
   "execution_count": 74,
   "id": "7308b9ef-1a53-4006-9c33-6adbf2727fbf",
   "metadata": {},
   "outputs": [
    {
     "data": {
      "text/plain": [
       "{'data ',\n",
       " 'default ',\n",
       " 'element ',\n",
       " 'example ',\n",
       " 'file ',\n",
       " 'function ',\n",
       " 'html ',\n",
       " 'image ',\n",
       " 'img ',\n",
       " 'j ',\n",
       " 'javascript ',\n",
       " 'name ',\n",
       " 'npm ',\n",
       " 'option ',\n",
       " 'react '}"
      ]
     },
     "execution_count": 74,
     "metadata": {},
     "output_type": "execute_result"
    }
   ],
   "source": [
    "unique_javascript_words"
   ]
  },
  {
   "cell_type": "code",
   "execution_count": 48,
   "id": "be9daae8-f4ad-4113-9c9f-b5b9ea8cff3b",
   "metadata": {},
   "outputs": [
    {
     "ename": "AttributeError",
     "evalue": "'set' object has no attribute 'to_dict'",
     "output_type": "error",
     "traceback": [
      "\u001b[0;31m---------------------------------------------------------------------------\u001b[0m",
      "\u001b[0;31mAttributeError\u001b[0m                            Traceback (most recent call last)",
      "Input \u001b[0;32mIn [75]\u001b[0m, in \u001b[0;36m<cell line: 1>\u001b[0;34m()\u001b[0m\n\u001b[0;32m----> 1\u001b[0m \u001b[43mplot_ngrams\u001b[49m\u001b[43m(\u001b[49m\u001b[43munique_javascript_words\u001b[49m\u001b[43m)\u001b[49m\n",
      "Input \u001b[0;32mIn [47]\u001b[0m, in \u001b[0;36mplot_ngrams\u001b[0;34m(words)\u001b[0m\n\u001b[1;32m      1\u001b[0m \u001b[38;5;28;01mdef\u001b[39;00m \u001b[38;5;21mplot_ngrams\u001b[39m(words):\n\u001b[0;32m----> 2\u001b[0m     words_data \u001b[38;5;241m=\u001b[39m {k[\u001b[38;5;241m0\u001b[39m] \u001b[38;5;241m+\u001b[39m \u001b[38;5;124m'\u001b[39m\u001b[38;5;124m \u001b[39m\u001b[38;5;124m'\u001b[39m: v \u001b[38;5;28;01mfor\u001b[39;00m k, v \u001b[38;5;129;01min\u001b[39;00m \u001b[43mwords\u001b[49m\u001b[38;5;241;43m.\u001b[39;49m\u001b[43mto_dict\u001b[49m()\u001b[38;5;241m.\u001b[39mitems()}\n\u001b[1;32m      3\u001b[0m     words_img \u001b[38;5;241m=\u001b[39m WordCloud(background_color\u001b[38;5;241m=\u001b[39m\u001b[38;5;124m'\u001b[39m\u001b[38;5;124mwhite\u001b[39m\u001b[38;5;124m'\u001b[39m, width\u001b[38;5;241m=\u001b[39m\u001b[38;5;241m800\u001b[39m, height\u001b[38;5;241m=\u001b[39m\u001b[38;5;241m400\u001b[39m)\u001b[38;5;241m.\u001b[39mgenerate_from_frequencies(words_data)\n\u001b[1;32m      4\u001b[0m     plt\u001b[38;5;241m.\u001b[39mfigure(figsize\u001b[38;5;241m=\u001b[39m(\u001b[38;5;241m8\u001b[39m, \u001b[38;5;241m4\u001b[39m))\n",
      "\u001b[0;31mAttributeError\u001b[0m: 'set' object has no attribute 'to_dict'"
     ]
    }
   ],
   "source": [
    "plot_ngrams(javascript_list)"
   ]
  },
  {
   "cell_type": "code",
   "execution_count": 73,
   "id": "1d431062-19c0-451c-98eb-bc638e3d05d1",
   "metadata": {},
   "outputs": [
    {
     "data": {
      "text/plain": [
       "['http ', 'com ', 'github ', 'use ', 'io ', 'image ', 'img ']"
      ]
     },
     "execution_count": 73,
     "metadata": {},
     "output_type": "execute_result"
    }
   ],
   "source": [
    "overlay_list = [ngram for ngram in javascript_data.keys() if ngram in java_data.keys()]\n",
    "overlay_list"
   ]
  },
  {
   "cell_type": "code",
   "execution_count": null,
   "id": "78d830b6-3d48-4ce7-b589-982cae60be9e",
   "metadata": {},
   "outputs": [],
   "source": []
  }
 ],
 "metadata": {
  "kernelspec": {
   "display_name": "Python 3 (ipykernel)",
   "language": "python",
   "name": "python3"
  },
  "language_info": {
   "codemirror_mode": {
    "name": "ipython",
    "version": 3
   },
   "file_extension": ".py",
   "mimetype": "text/x-python",
   "name": "python",
   "nbconvert_exporter": "python",
   "pygments_lexer": "ipython3",
   "version": "3.9.13"
  }
 },
 "nbformat": 4,
 "nbformat_minor": 5
}
