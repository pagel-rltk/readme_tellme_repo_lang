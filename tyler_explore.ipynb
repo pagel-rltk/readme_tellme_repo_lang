{
 "cells": [
  {
   "cell_type": "code",
   "execution_count": 1,
   "metadata": {},
   "outputs": [],
   "source": [
    "# data manipulation\n",
    "import pandas as pd\n",
    "\n",
    "# viz and stats\n",
    "import matplotlib.pyplot as plt\n",
    "import seaborn as sns\n",
    "from scipy import stats\n",
    "\n",
    "# nlp\n",
    "import re\n",
    "import unicodedata\n",
    "import nltk\n",
    "import nltk.sentiment\n",
    "from wordcloud import WordCloud\n",
    "from sklearn.feature_extraction.text import CountVectorizer\n",
    "from sklearn.feature_extraction.text import TfidfVectorizer\n",
    "\n",
    "#split\n",
    "from sklearn.model_selection import train_test_split\n",
    "\n",
    "# local imports\n",
    "import acquire as a\n",
    "import prepare as p"
   ]
  },
  {
   "cell_type": "code",
   "execution_count": 2,
   "metadata": {},
   "outputs": [],
   "source": [
    "df = a.get_readmes()\n",
    "df = p.prep_readmes(df)\n",
    "df_backup = df"
   ]
  },
  {
   "attachments": {},
   "cell_type": "markdown",
   "metadata": {},
   "source": [
    "# Explore"
   ]
  },
  {
   "cell_type": "code",
   "execution_count": 3,
   "metadata": {},
   "outputs": [],
   "source": [
    "df = df_backup"
   ]
  },
  {
   "cell_type": "code",
   "execution_count": 4,
   "metadata": {},
   "outputs": [
    {
     "data": {
      "text/html": [
       "<div>\n",
       "<style scoped>\n",
       "    .dataframe tbody tr th:only-of-type {\n",
       "        vertical-align: middle;\n",
       "    }\n",
       "\n",
       "    .dataframe tbody tr th {\n",
       "        vertical-align: top;\n",
       "    }\n",
       "\n",
       "    .dataframe thead th {\n",
       "        text-align: right;\n",
       "    }\n",
       "</style>\n",
       "<table border=\"1\" class=\"dataframe\">\n",
       "  <thead>\n",
       "    <tr style=\"text-align: right;\">\n",
       "      <th></th>\n",
       "      <th>repo</th>\n",
       "      <th>language</th>\n",
       "      <th>readme_contents</th>\n",
       "      <th>clean</th>\n",
       "      <th>lemmatized</th>\n",
       "      <th>top3other</th>\n",
       "    </tr>\n",
       "  </thead>\n",
       "  <tbody>\n",
       "    <tr>\n",
       "      <th>0</th>\n",
       "      <td>Hardtack/HTProgressHUD</td>\n",
       "      <td>Objective-C</td>\n",
       "      <td># HTProgressHUD\\n\\n[![No Maintenance Intended]...</td>\n",
       "      <td>htprogresshud maintenance intended http unmain...</td>\n",
       "      <td>htprogresshud maintenance intended http unmain...</td>\n",
       "      <td>Objective-C</td>\n",
       "    </tr>\n",
       "    <tr>\n",
       "      <th>1</th>\n",
       "      <td>raycmorgan/Mu</td>\n",
       "      <td>JavaScript</td>\n",
       "      <td># Mu - a fast, streaming Node.js Mustache engi...</td>\n",
       "      <td>mu fast streaming node js mustache engine warn...</td>\n",
       "      <td>mu fast streaming node j mustache engine warni...</td>\n",
       "      <td>JavaScript</td>\n",
       "    </tr>\n",
       "    <tr>\n",
       "      <th>2</th>\n",
       "      <td>rgeo/rgeo</td>\n",
       "      <td>Ruby</td>\n",
       "      <td>## RGeo\\n\\n[![Gem Version](https://badge.fury....</td>\n",
       "      <td>rgeo gem version https badge fury io rb rgeo s...</td>\n",
       "      <td>rgeo gem version http badge fury io rb rgeo sv...</td>\n",
       "      <td>other</td>\n",
       "    </tr>\n",
       "    <tr>\n",
       "      <th>3</th>\n",
       "      <td>johnlui/AutoLayout</td>\n",
       "      <td>Swift</td>\n",
       "      <td># Auto Layout 秘境\\n\\n### 1.《Auto Layout 使用心得》系列...</td>\n",
       "      <td>auto layout auto layout fir im keynote auto la...</td>\n",
       "      <td>auto layout auto layout fir im keynote auto la...</td>\n",
       "      <td>other</td>\n",
       "    </tr>\n",
       "    <tr>\n",
       "      <th>4</th>\n",
       "      <td>evnaz/ENSwiftSideMenu</td>\n",
       "      <td>Swift</td>\n",
       "      <td># ENSwiftSideMenu\\n\\nA lightweight flyover sid...</td>\n",
       "      <td>enswiftsidemenu lightweight flyover side menu ...</td>\n",
       "      <td>enswiftsidemenu lightweight flyover side menu ...</td>\n",
       "      <td>other</td>\n",
       "    </tr>\n",
       "    <tr>\n",
       "      <th>...</th>\n",
       "      <td>...</td>\n",
       "      <td>...</td>\n",
       "      <td>...</td>\n",
       "      <td>...</td>\n",
       "      <td>...</td>\n",
       "      <td>...</td>\n",
       "    </tr>\n",
       "    <tr>\n",
       "      <th>539</th>\n",
       "      <td>RealHacker/leetcode-solutions</td>\n",
       "      <td>Python</td>\n",
       "      <td># leetcode-solutions\\nRepo for all leetcode pr...</td>\n",
       "      <td>leetcode solutions repo leetcode problems solv...</td>\n",
       "      <td>leetcode solution repo leetcode problem solved...</td>\n",
       "      <td>other</td>\n",
       "    </tr>\n",
       "    <tr>\n",
       "      <th>540</th>\n",
       "      <td>Patrick-Kladek/CocoaDebugKit</td>\n",
       "      <td>Objective-C</td>\n",
       "      <td>CocoaDebugKit\\n============\\n[![Twitter: @Patr...</td>\n",
       "      <td>cocoadebugkit twitter patrickkladek https img ...</td>\n",
       "      <td>cocoadebugkit twitter patrickkladek http img s...</td>\n",
       "      <td>Objective-C</td>\n",
       "    </tr>\n",
       "    <tr>\n",
       "      <th>541</th>\n",
       "      <td>gophercon/2016-talks</td>\n",
       "      <td>JavaScript</td>\n",
       "      <td>Slides for GopherCon 2016 regular program and ...</td>\n",
       "      <td>slides gophercon regular program lightning tal...</td>\n",
       "      <td>slide gophercon regular program lightning talk...</td>\n",
       "      <td>JavaScript</td>\n",
       "    </tr>\n",
       "    <tr>\n",
       "      <th>542</th>\n",
       "      <td>dinocore1/DevsmartLib-Android</td>\n",
       "      <td>Java</td>\n",
       "      <td>\\n\\nThe MIT License\\n\\nCopyright (c) 2011 Paul...</td>\n",
       "      <td>mit license copyright c paul soucy pauldev sma...</td>\n",
       "      <td>mit license copyright c paul soucy pauldev sma...</td>\n",
       "      <td>Java</td>\n",
       "    </tr>\n",
       "    <tr>\n",
       "      <th>543</th>\n",
       "      <td>btholt/four-semesters-of-cs</td>\n",
       "      <td>HTML</td>\n",
       "      <td>## Four Semesters of Computer Science in 5 Hou...</td>\n",
       "      <td>four semesters computer science hours welcome ...</td>\n",
       "      <td>four semester computer science hour welcome co...</td>\n",
       "      <td>other</td>\n",
       "    </tr>\n",
       "  </tbody>\n",
       "</table>\n",
       "<p>544 rows × 6 columns</p>\n",
       "</div>"
      ],
      "text/plain": [
       "                              repo     language  \\\n",
       "0           Hardtack/HTProgressHUD  Objective-C   \n",
       "1                    raycmorgan/Mu   JavaScript   \n",
       "2                        rgeo/rgeo         Ruby   \n",
       "3               johnlui/AutoLayout        Swift   \n",
       "4            evnaz/ENSwiftSideMenu        Swift   \n",
       "..                             ...          ...   \n",
       "539  RealHacker/leetcode-solutions       Python   \n",
       "540   Patrick-Kladek/CocoaDebugKit  Objective-C   \n",
       "541           gophercon/2016-talks   JavaScript   \n",
       "542  dinocore1/DevsmartLib-Android         Java   \n",
       "543    btholt/four-semesters-of-cs         HTML   \n",
       "\n",
       "                                       readme_contents  \\\n",
       "0    # HTProgressHUD\\n\\n[![No Maintenance Intended]...   \n",
       "1    # Mu - a fast, streaming Node.js Mustache engi...   \n",
       "2    ## RGeo\\n\\n[![Gem Version](https://badge.fury....   \n",
       "3    # Auto Layout 秘境\\n\\n### 1.《Auto Layout 使用心得》系列...   \n",
       "4    # ENSwiftSideMenu\\n\\nA lightweight flyover sid...   \n",
       "..                                                 ...   \n",
       "539  # leetcode-solutions\\nRepo for all leetcode pr...   \n",
       "540  CocoaDebugKit\\n============\\n[![Twitter: @Patr...   \n",
       "541  Slides for GopherCon 2016 regular program and ...   \n",
       "542  \\n\\nThe MIT License\\n\\nCopyright (c) 2011 Paul...   \n",
       "543  ## Four Semesters of Computer Science in 5 Hou...   \n",
       "\n",
       "                                                 clean  \\\n",
       "0    htprogresshud maintenance intended http unmain...   \n",
       "1    mu fast streaming node js mustache engine warn...   \n",
       "2    rgeo gem version https badge fury io rb rgeo s...   \n",
       "3    auto layout auto layout fir im keynote auto la...   \n",
       "4    enswiftsidemenu lightweight flyover side menu ...   \n",
       "..                                                 ...   \n",
       "539  leetcode solutions repo leetcode problems solv...   \n",
       "540  cocoadebugkit twitter patrickkladek https img ...   \n",
       "541  slides gophercon regular program lightning tal...   \n",
       "542  mit license copyright c paul soucy pauldev sma...   \n",
       "543  four semesters computer science hours welcome ...   \n",
       "\n",
       "                                            lemmatized    top3other  \n",
       "0    htprogresshud maintenance intended http unmain...  Objective-C  \n",
       "1    mu fast streaming node j mustache engine warni...   JavaScript  \n",
       "2    rgeo gem version http badge fury io rb rgeo sv...        other  \n",
       "3    auto layout auto layout fir im keynote auto la...        other  \n",
       "4    enswiftsidemenu lightweight flyover side menu ...        other  \n",
       "..                                                 ...          ...  \n",
       "539  leetcode solution repo leetcode problem solved...        other  \n",
       "540  cocoadebugkit twitter patrickkladek http img s...  Objective-C  \n",
       "541  slide gophercon regular program lightning talk...   JavaScript  \n",
       "542  mit license copyright c paul soucy pauldev sma...         Java  \n",
       "543  four semester computer science hour welcome co...        other  \n",
       "\n",
       "[544 rows x 6 columns]"
      ]
     },
     "execution_count": 4,
     "metadata": {},
     "output_type": "execute_result"
    }
   ],
   "source": [
    "df"
   ]
  },
  {
   "cell_type": "code",
   "execution_count": 5,
   "metadata": {},
   "outputs": [
    {
     "name": "stdout",
     "output_type": "stream",
     "text": [
      "<class 'pandas.core.frame.DataFrame'>\n",
      "RangeIndex: 544 entries, 0 to 543\n",
      "Data columns (total 6 columns):\n",
      " #   Column           Non-Null Count  Dtype \n",
      "---  ------           --------------  ----- \n",
      " 0   repo             544 non-null    object\n",
      " 1   language         544 non-null    object\n",
      " 2   readme_contents  544 non-null    object\n",
      " 3   clean            544 non-null    object\n",
      " 4   lemmatized       544 non-null    object\n",
      " 5   top3other        544 non-null    object\n",
      "dtypes: object(6)\n",
      "memory usage: 25.6+ KB\n"
     ]
    }
   ],
   "source": [
    "df.info()"
   ]
  },
  {
   "cell_type": "code",
   "execution_count": 6,
   "metadata": {},
   "outputs": [
    {
     "data": {
      "image/png": "[encoded data removed]",
      "text/plain": [
       "<Figure size 640x480 with 1 Axes>"
      ]
     },
     "metadata": {},
     "output_type": "display_data"
    }
   ],
   "source": [
    "df.language.value_counts().head(5).plot(kind='barh',title='5 Most Common Repo Languages',xlabel='# of Repos',ylabel='Most Common Language in the Repo');"
   ]
  },
  {
   "cell_type": "code",
   "execution_count": 7,
   "metadata": {},
   "outputs": [
    {
     "data": {
      "image/png": "[encoded data removed]",
      "text/plain": [
       "<Figure size 640x480 with 1 Axes>"
      ]
     },
     "metadata": {},
     "output_type": "display_data"
    }
   ],
   "source": [
    "df.top3other.value_counts().plot(kind='barh',title='3 Most Common Repo Languages + Others',xlabel='# of Repos',ylabel='Most Common Language or Other');"
   ]
  },
  {
   "cell_type": "code",
   "execution_count": 8,
   "metadata": {},
   "outputs": [
    {
     "data": {
      "text/html": [
       "<div>\n",
       "<style scoped>\n",
       "    .dataframe tbody tr th:only-of-type {\n",
       "        vertical-align: middle;\n",
       "    }\n",
       "\n",
       "    .dataframe tbody tr th {\n",
       "        vertical-align: top;\n",
       "    }\n",
       "\n",
       "    .dataframe thead th {\n",
       "        text-align: right;\n",
       "    }\n",
       "</style>\n",
       "<table border=\"1\" class=\"dataframe\">\n",
       "  <thead>\n",
       "    <tr style=\"text-align: right;\">\n",
       "      <th></th>\n",
       "      <th>repo</th>\n",
       "      <th>language</th>\n",
       "      <th>readme_contents</th>\n",
       "      <th>clean</th>\n",
       "      <th>lemmatized</th>\n",
       "      <th>top3other</th>\n",
       "    </tr>\n",
       "  </thead>\n",
       "  <tbody>\n",
       "    <tr>\n",
       "      <th>0</th>\n",
       "      <td>Hardtack/HTProgressHUD</td>\n",
       "      <td>Objective-C</td>\n",
       "      <td># HTProgressHUD\\n\\n[![No Maintenance Intended]...</td>\n",
       "      <td>htprogresshud maintenance intended http unmain...</td>\n",
       "      <td>htprogresshud maintenance intended http unmain...</td>\n",
       "      <td>Objective-C</td>\n",
       "    </tr>\n",
       "    <tr>\n",
       "      <th>1</th>\n",
       "      <td>raycmorgan/Mu</td>\n",
       "      <td>JavaScript</td>\n",
       "      <td># Mu - a fast, streaming Node.js Mustache engi...</td>\n",
       "      <td>mu fast streaming node js mustache engine warn...</td>\n",
       "      <td>mu fast streaming node j mustache engine warni...</td>\n",
       "      <td>JavaScript</td>\n",
       "    </tr>\n",
       "    <tr>\n",
       "      <th>2</th>\n",
       "      <td>rgeo/rgeo</td>\n",
       "      <td>Ruby</td>\n",
       "      <td>## RGeo\\n\\n[![Gem Version](https://badge.fury....</td>\n",
       "      <td>rgeo gem version https badge fury io rb rgeo s...</td>\n",
       "      <td>rgeo gem version http badge fury io rb rgeo sv...</td>\n",
       "      <td>other</td>\n",
       "    </tr>\n",
       "    <tr>\n",
       "      <th>3</th>\n",
       "      <td>johnlui/AutoLayout</td>\n",
       "      <td>Swift</td>\n",
       "      <td># Auto Layout 秘境\\n\\n### 1.《Auto Layout 使用心得》系列...</td>\n",
       "      <td>auto layout auto layout fir im keynote auto la...</td>\n",
       "      <td>auto layout auto layout fir im keynote auto la...</td>\n",
       "      <td>other</td>\n",
       "    </tr>\n",
       "    <tr>\n",
       "      <th>4</th>\n",
       "      <td>evnaz/ENSwiftSideMenu</td>\n",
       "      <td>Swift</td>\n",
       "      <td># ENSwiftSideMenu\\n\\nA lightweight flyover sid...</td>\n",
       "      <td>enswiftsidemenu lightweight flyover side menu ...</td>\n",
       "      <td>enswiftsidemenu lightweight flyover side menu ...</td>\n",
       "      <td>other</td>\n",
       "    </tr>\n",
       "  </tbody>\n",
       "</table>\n",
       "</div>"
      ],
      "text/plain": [
       "                     repo     language  \\\n",
       "0  Hardtack/HTProgressHUD  Objective-C   \n",
       "1           raycmorgan/Mu   JavaScript   \n",
       "2               rgeo/rgeo         Ruby   \n",
       "3      johnlui/AutoLayout        Swift   \n",
       "4   evnaz/ENSwiftSideMenu        Swift   \n",
       "\n",
       "                                     readme_contents  \\\n",
       "0  # HTProgressHUD\\n\\n[![No Maintenance Intended]...   \n",
       "1  # Mu - a fast, streaming Node.js Mustache engi...   \n",
       "2  ## RGeo\\n\\n[![Gem Version](https://badge.fury....   \n",
       "3  # Auto Layout 秘境\\n\\n### 1.《Auto Layout 使用心得》系列...   \n",
       "4  # ENSwiftSideMenu\\n\\nA lightweight flyover sid...   \n",
       "\n",
       "                                               clean  \\\n",
       "0  htprogresshud maintenance intended http unmain...   \n",
       "1  mu fast streaming node js mustache engine warn...   \n",
       "2  rgeo gem version https badge fury io rb rgeo s...   \n",
       "3  auto layout auto layout fir im keynote auto la...   \n",
       "4  enswiftsidemenu lightweight flyover side menu ...   \n",
       "\n",
       "                                          lemmatized    top3other  \n",
       "0  htprogresshud maintenance intended http unmain...  Objective-C  \n",
       "1  mu fast streaming node j mustache engine warni...   JavaScript  \n",
       "2  rgeo gem version http badge fury io rb rgeo sv...        other  \n",
       "3  auto layout auto layout fir im keynote auto la...        other  \n",
       "4  enswiftsidemenu lightweight flyover side menu ...        other  "
      ]
     },
     "execution_count": 8,
     "metadata": {},
     "output_type": "execute_result"
    }
   ],
   "source": [
    "df.head()"
   ]
  },
  {
   "cell_type": "code",
   "execution_count": 9,
   "metadata": {},
   "outputs": [],
   "source": [
    "# df['top3other'] = np.where(df.language == 'JavaScript','JavaScript','other')\n",
    "# df['top3other'] = np.where(df.language == 'Objective-C','Objective-C',df['top3other'])\n",
    "# df['top3other'] = np.where(df.language == 'Java','Java',df['top3other'])\n",
    "# df.head()"
   ]
  },
  {
   "cell_type": "code",
   "execution_count": 10,
   "metadata": {},
   "outputs": [],
   "source": [
    "# def split_data(df, strat, seed=42, test=.2, validate=.25):\n",
    "#     st = [strat]\n",
    "#     train_validate, test = train_test_split(df, test_size=test, random_state=seed, stratify=df[st])\n",
    "#     train, validate = train_test_split(train_validate, \n",
    "#                                         test_size=validate, \n",
    "#                                         random_state=seed, \n",
    "#                                         stratify=train_validate[st])\n",
    "#     return train, validate, test"
   ]
  },
  {
   "cell_type": "code",
   "execution_count": 11,
   "metadata": {},
   "outputs": [
    {
     "data": {
      "text/plain": [
       "((326, 6), (109, 6), (109, 6))"
      ]
     },
     "execution_count": 11,
     "metadata": {},
     "output_type": "execute_result"
    }
   ],
   "source": [
    "train, val, test = p.split_data(df,'top3other')\n",
    "train.shape,val.shape,test.shape"
   ]
  },
  {
   "cell_type": "code",
   "execution_count": 12,
   "metadata": {},
   "outputs": [
    {
     "data": {
      "text/plain": [
       "other          0.423313\n",
       "JavaScript     0.276074\n",
       "Objective-C    0.168712\n",
       "Java           0.131902\n",
       "Name: top3other, dtype: float64"
      ]
     },
     "execution_count": 12,
     "metadata": {},
     "output_type": "execute_result"
    }
   ],
   "source": [
    "train.top3other.value_counts(normalize=True)"
   ]
  },
  {
   "cell_type": "code",
   "execution_count": 13,
   "metadata": {},
   "outputs": [
    {
     "data": {
      "text/plain": [
       "other          0.431193\n",
       "JavaScript     0.275229\n",
       "Objective-C    0.165138\n",
       "Java           0.128440\n",
       "Name: top3other, dtype: float64"
      ]
     },
     "execution_count": 13,
     "metadata": {},
     "output_type": "execute_result"
    }
   ],
   "source": [
    "val.top3other.value_counts(normalize=True)"
   ]
  },
  {
   "cell_type": "code",
   "execution_count": 14,
   "metadata": {},
   "outputs": [
    {
     "data": {
      "text/plain": [
       "other          0.422018\n",
       "JavaScript     0.275229\n",
       "Objective-C    0.174312\n",
       "Java           0.128440\n",
       "Name: top3other, dtype: float64"
      ]
     },
     "execution_count": 14,
     "metadata": {},
     "output_type": "execute_result"
    }
   ],
   "source": [
    "test.top3other.value_counts(normalize=True)"
   ]
  },
  {
   "attachments": {},
   "cell_type": "markdown",
   "metadata": {},
   "source": [
    "## What are the most common words in READMEs?"
   ]
  },
  {
   "cell_type": "code",
   "execution_count": 15,
   "metadata": {},
   "outputs": [
    {
     "data": {
      "text/plain": [
       "299471"
      ]
     },
     "execution_count": 15,
     "metadata": {},
     "output_type": "execute_result"
    }
   ],
   "source": [
    "all_words = [word for row in df['lemmatized'] for word in row.split()]\n",
    "len(all_words)"
   ]
  },
  {
   "cell_type": "code",
   "execution_count": 16,
   "metadata": {},
   "outputs": [
    {
     "data": {
      "text/plain": [
       "http       8045\n",
       "com        6204\n",
       "github     3831\n",
       "use        1774\n",
       "io         1425\n",
       "j          1413\n",
       "file       1287\n",
       "org        1217\n",
       "code       1135\n",
       "license    1060\n",
       "example    1051\n",
       "www        1019\n",
       "img         978\n",
       "master      974\n",
       "project     939\n",
       "install     932\n",
       "using       930\n",
       "image       928\n",
       "default     897\n",
       "name        867\n",
       "dtype: int64"
      ]
     },
     "execution_count": 16,
     "metadata": {},
     "output_type": "execute_result"
    }
   ],
   "source": [
    "all_freq = pd.Series(all_words).value_counts()\n",
    "all_freq.head(20)"
   ]
  },
  {
   "cell_type": "code",
   "execution_count": 17,
   "metadata": {},
   "outputs": [
    {
     "data": {
      "image/png": "[encoded data removed]",
      "text/plain": [
       "<Figure size 640x480 with 1 Axes>"
      ]
     },
     "metadata": {},
     "output_type": "display_data"
    }
   ],
   "source": [
    "all_freq.head(10).plot(kind='barh',title='10 Most Common Words in Readmes',xlabel='# of Occurrences in Readmes',ylabel='Word');"
   ]
  },
  {
   "attachments": {},
   "cell_type": "markdown",
   "metadata": {},
   "source": [
    "## Does the length of the README vary by programming language?"
   ]
  },
  {
   "cell_type": "code",
   "execution_count": 21,
   "metadata": {},
   "outputs": [
    {
     "data": {
      "text/html": [
       "<div>\n",
       "<style scoped>\n",
       "    .dataframe tbody tr th:only-of-type {\n",
       "        vertical-align: middle;\n",
       "    }\n",
       "\n",
       "    .dataframe tbody tr th {\n",
       "        vertical-align: top;\n",
       "    }\n",
       "\n",
       "    .dataframe thead th {\n",
       "        text-align: right;\n",
       "    }\n",
       "</style>\n",
       "<table border=\"1\" class=\"dataframe\">\n",
       "  <thead>\n",
       "    <tr style=\"text-align: right;\">\n",
       "      <th></th>\n",
       "      <th>repo</th>\n",
       "      <th>language</th>\n",
       "      <th>readme_contents</th>\n",
       "      <th>clean</th>\n",
       "      <th>lemmatized</th>\n",
       "      <th>top3other</th>\n",
       "      <th>length</th>\n",
       "    </tr>\n",
       "  </thead>\n",
       "  <tbody>\n",
       "    <tr>\n",
       "      <th>407</th>\n",
       "      <td>hagsteel/swampdragon</td>\n",
       "      <td>JavaScript</td>\n",
       "      <td># SwampDragon\\n\\n# Looking for someone to take...</td>\n",
       "      <td>swampdragon looking someone take longer time s...</td>\n",
       "      <td>swampdragon looking someone take longer time s...</td>\n",
       "      <td>JavaScript</td>\n",
       "      <td>3294</td>\n",
       "    </tr>\n",
       "    <tr>\n",
       "      <th>414</th>\n",
       "      <td>doczjs/docz</td>\n",
       "      <td>TypeScript</td>\n",
       "      <td>&lt;p align=\"left\"&gt;\\n  &lt;a href=\"https://www.npmjs...</td>\n",
       "      <td>p alignleft hrefhttps www npmjs com package do...</td>\n",
       "      <td>p alignleft hrefhttps www npmjs com package do...</td>\n",
       "      <td>other</td>\n",
       "      <td>5496</td>\n",
       "    </tr>\n",
       "    <tr>\n",
       "      <th>109</th>\n",
       "      <td>autresphere/ASMediaFocusManager</td>\n",
       "      <td>Objective-C</td>\n",
       "      <td>## ASMediaFocusManager\\nASMediaFocusManager gi...</td>\n",
       "      <td>asmediafocusmanager asmediafocusmanager gives ...</td>\n",
       "      <td>asmediafocusmanager asmediafocusmanager give a...</td>\n",
       "      <td>Objective-C</td>\n",
       "      <td>6448</td>\n",
       "    </tr>\n",
       "    <tr>\n",
       "      <th>238</th>\n",
       "      <td>cmaddux/littlebox</td>\n",
       "      <td>CSS</td>\n",
       "      <td># littlebox\\nSuper simple to use, CSS-only ico...</td>\n",
       "      <td>littlebox super simple use css icons littlebox...</td>\n",
       "      <td>littlebox super simple use cs icon littlebox h...</td>\n",
       "      <td>other</td>\n",
       "      <td>1193</td>\n",
       "    </tr>\n",
       "    <tr>\n",
       "      <th>318</th>\n",
       "      <td>sstephenson/stitch</td>\n",
       "      <td>CoffeeScript</td>\n",
       "      <td>&lt;img src=\"https://github.com/downloads/sstephe...</td>\n",
       "      <td>img srchttps github com downloads sstephenson ...</td>\n",
       "      <td>img srchttps github com downloads sstephenson ...</td>\n",
       "      <td>other</td>\n",
       "      <td>678</td>\n",
       "    </tr>\n",
       "    <tr>\n",
       "      <th>...</th>\n",
       "      <td>...</td>\n",
       "      <td>...</td>\n",
       "      <td>...</td>\n",
       "      <td>...</td>\n",
       "      <td>...</td>\n",
       "      <td>...</td>\n",
       "      <td>...</td>\n",
       "    </tr>\n",
       "    <tr>\n",
       "      <th>236</th>\n",
       "      <td>wellyshen/use-web-animations</td>\n",
       "      <td>TypeScript</td>\n",
       "      <td># &lt;em&gt;&lt;b&gt;USE-WEB-ANIMATIONS&lt;/b&gt;&lt;/em&gt;\\n\\nUsing ...</td>\n",
       "      <td>embuse web animations b em using web animation...</td>\n",
       "      <td>embuse web animation b em using web animation ...</td>\n",
       "      <td>other</td>\n",
       "      <td>15770</td>\n",
       "    </tr>\n",
       "    <tr>\n",
       "      <th>372</th>\n",
       "      <td>divan/gobenchui</td>\n",
       "      <td>Go</td>\n",
       "      <td>\\n# GoBenchUI\\n\\n[![Build Status](https://dron...</td>\n",
       "      <td>gobenchui build status https drone io github c...</td>\n",
       "      <td>gobenchui build status http drone io github co...</td>\n",
       "      <td>other</td>\n",
       "      <td>2940</td>\n",
       "    </tr>\n",
       "    <tr>\n",
       "      <th>265</th>\n",
       "      <td>maoruibin/GankDaily</td>\n",
       "      <td>Java</td>\n",
       "      <td># GankDaily\\n![icon](/app/src/main/res/mipmap-...</td>\n",
       "      <td>gankdaily icon app src main res mipmap xxxhdpi...</td>\n",
       "      <td>gankdaily icon app src main re mipmap xxxhdpi ...</td>\n",
       "      <td>Java</td>\n",
       "      <td>1617</td>\n",
       "    </tr>\n",
       "    <tr>\n",
       "      <th>245</th>\n",
       "      <td>omniscientjs/omniscient</td>\n",
       "      <td>JavaScript</td>\n",
       "      <td>![Omniscient Logo](./omniscient-logo.png)\\n\\n[...</td>\n",
       "      <td>omniscient logo omniscient logo png npm versio...</td>\n",
       "      <td>omniscient logo omniscient logo png npm versio...</td>\n",
       "      <td>JavaScript</td>\n",
       "      <td>10958</td>\n",
       "    </tr>\n",
       "    <tr>\n",
       "      <th>471</th>\n",
       "      <td>animatedjs/animated</td>\n",
       "      <td>JavaScript</td>\n",
       "      <td># Animated\\n\\nDeclarative Animations Library f...</td>\n",
       "      <td>animated declarative animations library react ...</td>\n",
       "      <td>animated declarative animation library react r...</td>\n",
       "      <td>JavaScript</td>\n",
       "      <td>2401</td>\n",
       "    </tr>\n",
       "  </tbody>\n",
       "</table>\n",
       "<p>326 rows × 7 columns</p>\n",
       "</div>"
      ],
      "text/plain": [
       "                                repo      language  \\\n",
       "407             hagsteel/swampdragon    JavaScript   \n",
       "414                      doczjs/docz    TypeScript   \n",
       "109  autresphere/ASMediaFocusManager   Objective-C   \n",
       "238                cmaddux/littlebox           CSS   \n",
       "318               sstephenson/stitch  CoffeeScript   \n",
       "..                               ...           ...   \n",
       "236     wellyshen/use-web-animations    TypeScript   \n",
       "372                  divan/gobenchui            Go   \n",
       "265              maoruibin/GankDaily          Java   \n",
       "245          omniscientjs/omniscient    JavaScript   \n",
       "471              animatedjs/animated    JavaScript   \n",
       "\n",
       "                                       readme_contents  \\\n",
       "407  # SwampDragon\\n\\n# Looking for someone to take...   \n",
       "414  <p align=\"left\">\\n  <a href=\"https://www.npmjs...   \n",
       "109  ## ASMediaFocusManager\\nASMediaFocusManager gi...   \n",
       "238  # littlebox\\nSuper simple to use, CSS-only ico...   \n",
       "318  <img src=\"https://github.com/downloads/sstephe...   \n",
       "..                                                 ...   \n",
       "236  # <em><b>USE-WEB-ANIMATIONS</b></em>\\n\\nUsing ...   \n",
       "372  \\n# GoBenchUI\\n\\n[![Build Status](https://dron...   \n",
       "265  # GankDaily\\n![icon](/app/src/main/res/mipmap-...   \n",
       "245  ![Omniscient Logo](./omniscient-logo.png)\\n\\n[...   \n",
       "471  # Animated\\n\\nDeclarative Animations Library f...   \n",
       "\n",
       "                                                 clean  \\\n",
       "407  swampdragon looking someone take longer time s...   \n",
       "414  p alignleft hrefhttps www npmjs com package do...   \n",
       "109  asmediafocusmanager asmediafocusmanager gives ...   \n",
       "238  littlebox super simple use css icons littlebox...   \n",
       "318  img srchttps github com downloads sstephenson ...   \n",
       "..                                                 ...   \n",
       "236  embuse web animations b em using web animation...   \n",
       "372  gobenchui build status https drone io github c...   \n",
       "265  gankdaily icon app src main res mipmap xxxhdpi...   \n",
       "245  omniscient logo omniscient logo png npm versio...   \n",
       "471  animated declarative animations library react ...   \n",
       "\n",
       "                                            lemmatized    top3other  length  \n",
       "407  swampdragon looking someone take longer time s...   JavaScript    3294  \n",
       "414  p alignleft hrefhttps www npmjs com package do...        other    5496  \n",
       "109  asmediafocusmanager asmediafocusmanager give a...  Objective-C    6448  \n",
       "238  littlebox super simple use cs icon littlebox h...        other    1193  \n",
       "318  img srchttps github com downloads sstephenson ...        other     678  \n",
       "..                                                 ...          ...     ...  \n",
       "236  embuse web animation b em using web animation ...        other   15770  \n",
       "372  gobenchui build status http drone io github co...        other    2940  \n",
       "265  gankdaily icon app src main re mipmap xxxhdpi ...         Java    1617  \n",
       "245  omniscient logo omniscient logo png npm versio...   JavaScript   10958  \n",
       "471  animated declarative animation library react r...   JavaScript    2401  \n",
       "\n",
       "[326 rows x 7 columns]"
      ]
     },
     "execution_count": 21,
     "metadata": {},
     "output_type": "execute_result"
    }
   ],
   "source": [
    "# looking at lemmatized column to stay consistent\n",
    "# create column based on length of lemmatized readme\n",
    "train = train.assign(length = train['lemmatized'].str.len())\n",
    "train"
   ]
  },
  {
   "cell_type": "code",
   "execution_count": 45,
   "metadata": {},
   "outputs": [
    {
     "data": {
      "text/plain": [
       "top3other\n",
       "Java           3350.209302\n",
       "JavaScript     4707.155556\n",
       "Objective-C    3747.290909\n",
       "other          4270.210145\n",
       "Name: length, dtype: float64"
      ]
     },
     "execution_count": 45,
     "metadata": {},
     "output_type": "execute_result"
    }
   ],
   "source": [
    "train.groupby('top3other').length.mean()"
   ]
  },
  {
   "cell_type": "code",
   "execution_count": 66,
   "metadata": {},
   "outputs": [
    {
     "data": {
      "text/plain": [
       "top3other\n",
       "Java           1830.0\n",
       "JavaScript     2951.0\n",
       "Objective-C    2155.0\n",
       "other          2588.0\n",
       "Name: length, dtype: float64"
      ]
     },
     "execution_count": 66,
     "metadata": {},
     "output_type": "execute_result"
    }
   ],
   "source": [
    "train.groupby('top3other').length.median()"
   ]
  },
  {
   "cell_type": "code",
   "execution_count": 67,
   "metadata": {},
   "outputs": [
    {
     "data": {
      "text/plain": [
       "2382.0"
      ]
     },
     "execution_count": 67,
     "metadata": {},
     "output_type": "execute_result"
    }
   ],
   "source": [
    "train.length.median()"
   ]
  },
  {
   "cell_type": "code",
   "execution_count": 51,
   "metadata": {},
   "outputs": [
    {
     "data": {
      "text/plain": [
       "top3other\n",
       "Java           2130.071429\n",
       "JavaScript     4707.155556\n",
       "Objective-C    3747.290909\n",
       "other          4270.210145\n",
       "Name: length, dtype: float64"
      ]
     },
     "execution_count": 51,
     "metadata": {},
     "output_type": "execute_result"
    }
   ],
   "source": [
    "train[train.length<50000].groupby('top3other').length.mean()"
   ]
  },
  {
   "cell_type": "code",
   "execution_count": 109,
   "metadata": {},
   "outputs": [
    {
     "data": {
      "image/png": "[encoded data removed]",
      "text/plain": [
       "<Figure size 640x480 with 1 Axes>"
      ]
     },
     "metadata": {},
     "output_type": "display_data"
    }
   ],
   "source": [
    "sns.histplot(data=train,x='length',hue='top3other',multiple='stack')\n",
    "plt.axvline(train.length.median(),color='pink',linestyle='--',linewidth=3)\n",
    "plt.text(x=3500,y=80,s='Median Length',color='hotpink')\n",
    "plt.xlabel('Length of Readme')\n",
    "plt.ylabel('# of Readmes')\n",
    "plt.title('Histogram of Readme Lengths hued on Language')\n",
    "plt.show()"
   ]
  },
  {
   "cell_type": "code",
   "execution_count": 52,
   "metadata": {},
   "outputs": [
    {
     "data": {
      "image/png": "[encoded data removed]",
      "text/plain": [
       "<Figure size 640x480 with 1 Axes>"
      ]
     },
     "metadata": {},
     "output_type": "display_data"
    }
   ],
   "source": [
    "sns.histplot(data=train[train.length<50000],x='length',hue='top3other',multiple='stack')\n",
    "plt.show()"
   ]
  },
  {
   "cell_type": "code",
   "execution_count": 32,
   "metadata": {},
   "outputs": [
    {
     "data": {
      "text/plain": [
       "ShapiroResult(statistic=0.5975901484489441, pvalue=7.490775866573869e-27)"
      ]
     },
     "execution_count": 32,
     "metadata": {},
     "output_type": "execute_result"
    }
   ],
   "source": [
    "# null hyp is normal dist, alt hyp not norm\n",
    "# reject null; not normal dist\n",
    "stats.shapiro(train.length)"
   ]
  },
  {
   "cell_type": "code",
   "execution_count": 35,
   "metadata": {},
   "outputs": [
    {
     "data": {
      "text/plain": [
       "AndersonResult(statistic=31.610698561307004, critical_values=array([0.569, 0.648, 0.778, 0.907, 1.079]), significance_level=array([15. , 10. ,  5. ,  2.5,  1. ]), fit_result=  params: FitParams(loc=4181.266871165644, scale=5685.578791666943)\n",
       " success: True\n",
       " message: '`anderson` successfully fit the distribution to the data.')"
      ]
     },
     "execution_count": 35,
     "metadata": {},
     "output_type": "execute_result"
    }
   ],
   "source": [
    "# null hyp is normal dist, alt hyp not norm\n",
    "# reject null; not normal dist\n",
    "stats.anderson(train.length,'norm')"
   ]
  },
  {
   "cell_type": "code",
   "execution_count": 62,
   "metadata": {},
   "outputs": [],
   "source": [
    "def wilcox(train, cat_var, cat_value, quant_var, alt_hyp='two-sided'):\n",
    "    x = train[train[cat_var]==cat_value][quant_var]\n",
    "    y = train[quant_var].median()\n",
    "    w = (x-y)\n",
    "    # alt_hyp = ‘two-sided’, ‘less’, ‘greater’\n",
    "    stat,p = stats.wilcoxon(w, alternative=alt_hyp)\n",
    "    print(\"Wilcoxon Test:\\n\", f'stat = {stat}, p = {p}')\n",
    "\n",
    "def nova4(s1,s2,s3,s4):\n",
    "    '''ANOVA test for 4 samples'''\n",
    "    stat,p = stats.kruskal(s1,s2,s3,s4)\n",
    "    print(\"Kruskal-Wallis H-Test:\\n\", f'stat = {stat}, p = {p}')"
   ]
  },
  {
   "cell_type": "code",
   "execution_count": 63,
   "metadata": {},
   "outputs": [
    {
     "name": "stdout",
     "output_type": "stream",
     "text": [
      "Wilcoxon Test:\n",
      " stat = 1327.0, p = 0.0037427048598427737\n"
     ]
    }
   ],
   "source": [
    "# null hyp Javascript readme lengths are about the same as the population median readme lengths\n",
    "wilcox(train,'top3other','JavaScript','length')\n",
    "# stats.wilcoxon(train[train.top3other=='JavaScript'].length - train.length.median())"
   ]
  },
  {
   "cell_type": "code",
   "execution_count": 65,
   "metadata": {},
   "outputs": [
    {
     "name": "stdout",
     "output_type": "stream",
     "text": [
      "|--------------------------------------|\n",
      "JavaScript\n",
      "Wilcoxon Test:\n",
      " stat = 1327.0, p = 0.0037427048598427737\n",
      "|--------------------------------------|\n",
      "other\n",
      "Wilcoxon Test:\n",
      " stat = 3518.5, p = 0.0066475281931874025\n",
      "|--------------------------------------|\n",
      "Objective-C\n",
      "Wilcoxon Test:\n",
      " stat = 572.5, p = 0.09797105343358414\n",
      "|--------------------------------------|\n",
      "Java\n",
      "Wilcoxon Test:\n",
      " stat = 378.5, p = 0.25668872674623344\n"
     ]
    }
   ],
   "source": [
    "# Objective-C and Java readme lengths are NOT significantly different than the population median readme length\n",
    "# JavaScript and other language readme lengths are significantly different than the population median readme length\n",
    "# alpha = .05\n",
    "for lang in train.top3other.unique():\n",
    "    print('|--------------------------------------|')\n",
    "    print(lang)\n",
    "    wilcox(train,'top3other',lang,'length')"
   ]
  },
  {
   "cell_type": "code",
   "execution_count": null,
   "metadata": {},
   "outputs": [],
   "source": []
  },
  {
   "cell_type": "code",
   "execution_count": null,
   "metadata": {},
   "outputs": [],
   "source": []
  }
 ],
 "metadata": {
  "kernelspec": {
   "display_name": "base",
   "language": "python",
   "name": "python3"
  },
  "language_info": {
   "codemirror_mode": {
    "name": "ipython",
    "version": 3
   },
   "file_extension": ".py",
   "mimetype": "text/x-python",
   "name": "python",
   "nbconvert_exporter": "python",
   "pygments_lexer": "ipython3",
   "version": "3.9.16"
  },
  "orig_nbformat": 4
 },
 "nbformat": 4,
 "nbformat_minor": 2
}
